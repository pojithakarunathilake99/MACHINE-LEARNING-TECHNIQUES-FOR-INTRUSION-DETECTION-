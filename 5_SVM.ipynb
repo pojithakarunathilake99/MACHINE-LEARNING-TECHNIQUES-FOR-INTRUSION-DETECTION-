{
  "cells": [
    {
      "cell_type": "code",
      "execution_count": null,
      "metadata": {
        "colab": {
          "base_uri": "https://localhost:8080/"
        },
        "id": "xukm3gUB4u89",
        "outputId": "aba1068e-934a-40b5-d998-9afb645c61d8"
      },
      "outputs": [
        {
          "output_type": "stream",
          "name": "stdout",
          "text": [
            "Mounted at /content/drive\n"
          ]
        }
      ],
      "source": [
        "from google.colab import drive\n",
        "drive.mount('/content/drive')"
      ]
    },
    {
      "cell_type": "code",
      "execution_count": null,
      "metadata": {
        "id": "8uYW8NqzzHvl"
      },
      "outputs": [],
      "source": [
        "import numpy as np\n",
        "import pandas as pd"
      ]
    },
    {
      "cell_type": "code",
      "execution_count": null,
      "metadata": {
        "id": "CapeYqUjzOX5"
      },
      "outputs": [],
      "source": [
        "df = pd.read_csv('/content/drive/MyDrive/cic-ids/cleaned_data1.csv')"
      ]
    },
    {
      "cell_type": "markdown",
      "metadata": {
        "id": "vXDxePURzjtd"
      },
      "source": [
        "# Feature Selection "
      ]
    },
    {
      "cell_type": "code",
      "execution_count": null,
      "metadata": {
        "id": "vOPfw503za17"
      },
      "outputs": [],
      "source": [
        "df.replace(to_replace=[\"Bot\", \"FTP-BruteForce\", \"SSH-Bruteforce\",\"DoS attacks-GoldenEye\",\"DoS attacks-Slowloris\"], value=\"Malicious\", inplace=True)"
      ]
    },
    {
      "cell_type": "code",
      "execution_count": null,
      "metadata": {
        "colab": {
          "base_uri": "https://localhost:8080/"
        },
        "id": "ovEHm75Czx5l",
        "outputId": "a7ffe7e8-c008-4254-b185-5ab83ae8f291"
      },
      "outputs": [
        {
          "output_type": "execute_result",
          "data": {
            "text/plain": [
              "Benign       2426087\n",
              "Malicious     719638\n",
              "Name: Label, dtype: int64"
            ]
          },
          "metadata": {},
          "execution_count": 5
        }
      ],
      "source": [
        "df['Label'].value_counts()"
      ]
    },
    {
      "cell_type": "code",
      "execution_count": null,
      "metadata": {
        "id": "raTlW_Cjz0xV"
      },
      "outputs": [],
      "source": [
        "df.replace(to_replace=\"Benign\", value=0, inplace=True)\n",
        "df.replace(to_replace=\"Malicious\", value=1, inplace=True)"
      ]
    },
    {
      "cell_type": "code",
      "execution_count": null,
      "metadata": {
        "id": "a9nJbwRNz4wI"
      },
      "outputs": [],
      "source": [
        "df.drop('Bwd URG Flags','Bwd Pkts/b Avg','Bwd Blk Rate Avg','Fwd Pkts/b Avg','CWE Flag Count','Fwd URG Flags','Bwd PSH Flags','Fwd Byts/b Avg','Bwd Byts/b Avg','Fwd Blk Rate Avg','Protocol_17','Pkt Len Min','FIN Flag Cnt','Active Std','SYN Flag Cnt', axis='columns',inplace=True)"
      ]
    },
    {
      "cell_type": "markdown",
      "metadata": {
        "id": "rKj9N6HmEOTG"
      },
      "source": [
        "# Scaling"
      ]
    },
    {
      "cell_type": "code",
      "execution_count": null,
      "metadata": {
        "id": "YjcllSGbEQRY"
      },
      "outputs": [],
      "source": [
        "y = df['Label']\n",
        "x = df.drop(['Label'],axis=1)\n"
      ]
    },
    {
      "cell_type": "code",
      "execution_count": null,
      "metadata": {
        "id": "mhkKhBeYET_b"
      },
      "outputs": [],
      "source": [
        "from sklearn.preprocessing import StandardScaler\n",
        "from sklearn.model_selection import train_test_split\n",
        "\n",
        "scaler = StandardScaler()\n",
        "x = scaler.fit_transform(x)\n",
        "x_train, x_test, y_train, y_test = train_test_split(x,y, test_size=0.2, random_state=42)"
      ]
    },
    {
      "cell_type": "code",
      "execution_count": null,
      "metadata": {
        "id": "PbPJXziQEc8V",
        "colab": {
          "base_uri": "https://localhost:8080/"
        },
        "outputId": "144c2f3b-df71-4327-e332-5234d41b2e30"
      },
      "outputs": [
        {
          "output_type": "stream",
          "name": "stdout",
          "text": [
            "Shape of training data : (2516580, 77), (2516580,)\n",
            "Shape of testing data : (629145, 77), (629145,)\n"
          ]
        }
      ],
      "source": [
        "print(f\"Shape of training data : {x_train.shape}, {y_train.shape}\")\n",
        "print(f\"Shape of testing data : {x_test.shape}, {y_test.shape}\")"
      ]
    },
    {
      "cell_type": "markdown",
      "metadata": {
        "id": "obn5bbe_1ESM"
      },
      "source": [
        "# Making the model"
      ]
    },
    {
      "cell_type": "code",
      "execution_count": null,
      "metadata": {
        "id": "4xOKy9fV1Dw9"
      },
      "outputs": [],
      "source": [
        "from sklearn.svm import LinearSVC\n",
        "from sklearn.pipeline import make_pipeline\n",
        "\n",
        "\n",
        "clf = make_pipeline(StandardScaler(),LinearSVC(random_state=0, tol=1e-5))\n"
      ]
    },
    {
      "cell_type": "code",
      "execution_count": null,
      "metadata": {
        "colab": {
          "base_uri": "https://localhost:8080/"
        },
        "id": "2oTRr9Qq1QkE",
        "outputId": "3bb23cfe-668c-4869-fbb0-2b8cdcac5a22"
      },
      "outputs": [
        {
          "output_type": "stream",
          "name": "stderr",
          "text": [
            "/usr/local/lib/python3.8/dist-packages/sklearn/svm/_base.py:1206: ConvergenceWarning: Liblinear failed to converge, increase the number of iterations.\n",
            "  warnings.warn(\n"
          ]
        },
        {
          "output_type": "execute_result",
          "data": {
            "text/plain": [
              "Pipeline(steps=[('standardscaler', StandardScaler()),\n",
              "                ('linearsvc', LinearSVC(random_state=0, tol=1e-05))])"
            ]
          },
          "metadata": {},
          "execution_count": 12
        }
      ],
      "source": [
        "clf.fit(x_train, y_train)"
      ]
    },
    {
      "cell_type": "code",
      "execution_count": null,
      "metadata": {
        "id": "dkYLIXSvqfc3"
      },
      "outputs": [],
      "source": [
        "y_pred = clf.predict(x_test)"
      ]
    },
    {
      "cell_type": "code",
      "execution_count": null,
      "metadata": {
        "id": "prQ4jz14qjzB",
        "colab": {
          "base_uri": "https://localhost:8080/"
        },
        "outputId": "b300d8d2-1c2b-4f52-d108-ebf361b9e852"
      },
      "outputs": [
        {
          "output_type": "execute_result",
          "data": {
            "text/plain": [
              "array([0, 0, 0, ..., 1, 1, 0])"
            ]
          },
          "metadata": {},
          "execution_count": 14
        }
      ],
      "source": [
        "y_pred"
      ]
    },
    {
      "cell_type": "markdown",
      "source": [
        "# Evaluation matrix\n"
      ],
      "metadata": {
        "id": "wExk1nJI2STK"
      }
    },
    {
      "cell_type": "markdown",
      "metadata": {
        "id": "3E8nlWfoW_Yh"
      },
      "source": [
        "Confusion Matrix"
      ]
    },
    {
      "cell_type": "code",
      "execution_count": null,
      "metadata": {
        "id": "txBmjkEbW8eR",
        "colab": {
          "base_uri": "https://localhost:8080/"
        },
        "outputId": "abb7de25-9519-4a1f-909e-47efbcb038a9"
      },
      "outputs": [
        {
          "output_type": "stream",
          "name": "stdout",
          "text": [
            "[[472955  12210]\n",
            " [   596 143384]]\n"
          ]
        }
      ],
      "source": [
        "from sklearn.metrics import classification_report, confusion_matrix , plot_confusion_matrix\n",
        "conf = confusion_matrix(y_test,y_pred)\n",
        "print(conf)"
      ]
    },
    {
      "cell_type": "code",
      "execution_count": null,
      "metadata": {
        "id": "5EeIDcLEXEPr",
        "colab": {
          "base_uri": "https://localhost:8080/",
          "height": 351
        },
        "outputId": "efceb2a0-1574-40f8-ea37-1c8fa5344ded"
      },
      "outputs": [
        {
          "output_type": "stream",
          "name": "stderr",
          "text": [
            "/usr/local/lib/python3.8/dist-packages/sklearn/utils/deprecation.py:87: FutureWarning: Function plot_confusion_matrix is deprecated; Function `plot_confusion_matrix` is deprecated in 1.0 and will be removed in 1.2. Use one of the class methods: ConfusionMatrixDisplay.from_predictions or ConfusionMatrixDisplay.from_estimator.\n",
            "  warnings.warn(msg, category=FutureWarning)\n"
          ]
        },
        {
          "output_type": "execute_result",
          "data": {
            "text/plain": [
              "<sklearn.metrics._plot.confusion_matrix.ConfusionMatrixDisplay at 0x7f7c0cc84220>"
            ]
          },
          "metadata": {},
          "execution_count": 16
        },
        {
          "output_type": "display_data",
          "data": {
            "text/plain": [
              "<Figure size 432x288 with 2 Axes>"
            ],
            "image/png": "[encoded data removed]"
          },
          "metadata": {
            "needs_background": "light"
          }
        }
      ],
      "source": [
        "plot_confusion_matrix(clf, x_test, y_test, cmap=\"cividis\")"
      ]
    },
    {
      "cell_type": "markdown",
      "metadata": {
        "id": "bqgZMp-4XIIJ"
      },
      "source": [
        "Accuracy Score"
      ]
    },
    {
      "cell_type": "code",
      "execution_count": null,
      "metadata": {
        "id": "YL0LYzFYXKQd",
        "colab": {
          "base_uri": "https://localhost:8080/"
        },
        "outputId": "aa6b8b6f-45d2-471f-fa6d-6175afa40706"
      },
      "outputs": [
        {
          "output_type": "stream",
          "name": "stdout",
          "text": [
            "Accuracy score: 0.9796453917618355\n"
          ]
        }
      ],
      "source": [
        "from sklearn.metrics import accuracy_score\n",
        "\n",
        "print(\"Accuracy score: {}\".format(accuracy_score(y_test,y_pred)))"
      ]
    },
    {
      "cell_type": "markdown",
      "metadata": {
        "id": "3qtTwgD9Xhg2"
      },
      "source": [
        "Recall Score"
      ]
    },
    {
      "cell_type": "code",
      "execution_count": null,
      "metadata": {
        "id": "1Pdqc1w9Xg-a",
        "colab": {
          "base_uri": "https://localhost:8080/"
        },
        "outputId": "854be4a6-9a20-4d5c-9820-136f1f7bc3e2"
      },
      "outputs": [
        {
          "output_type": "stream",
          "name": "stdout",
          "text": [
            "Recall score: 0.9958605361855813\n"
          ]
        }
      ],
      "source": [
        "from sklearn.metrics import recall_score\n",
        "\n",
        "print(\"Recall score: {}\".format(recall_score(y_test,y_pred)))"
      ]
    },
    {
      "cell_type": "markdown",
      "metadata": {
        "id": "d4hsd98uXZE-"
      },
      "source": [
        "Classification Report"
      ]
    },
    {
      "cell_type": "code",
      "execution_count": null,
      "metadata": {
        "id": "JCu7gPjIXbbJ",
        "colab": {
          "base_uri": "https://localhost:8080/"
        },
        "outputId": "7d75e3cd-b0a6-4928-a78a-1816e2371651"
      },
      "outputs": [
        {
          "output_type": "stream",
          "name": "stdout",
          "text": [
            "Classification Report               precision    recall  f1-score   support\n",
            "\n",
            "           0    0.99874   0.97483   0.98664    485165\n",
            "           1    0.92153   0.99586   0.95725    143980\n",
            "\n",
            "    accuracy                        0.97965    629145\n",
            "   macro avg    0.96013   0.98535   0.97195    629145\n",
            "weighted avg    0.98107   0.97965   0.97992    629145\n",
            "\n"
          ]
        }
      ],
      "source": [
        "print(\"Classification Report {}\".format(classification_report(y_test,y_pred,digits=5)))"
      ]
    },
    {
      "cell_type": "code",
      "source": [
        "import pickle\n",
        "\n",
        "with open('/content/drive/MyDrive/TrainedModels/svm.pkl', 'wb') as f:\n",
        "  pickle.dump(clf, f)"
      ],
      "metadata": {
        "id": "7DxWgIEbcyw7"
      },
      "execution_count": null,
      "outputs": []
    }
  ],
  "metadata": {
    "accelerator": "GPU",
    "colab": {
      "provenance": []
    },
    "gpuClass": "standard",
    "kernelspec": {
      "display_name": "Python 3",
      "name": "python3"
    },
    "language_info": {
      "name": "python"
    }
  },
  "nbformat": 4,
  "nbformat_minor": 0
}