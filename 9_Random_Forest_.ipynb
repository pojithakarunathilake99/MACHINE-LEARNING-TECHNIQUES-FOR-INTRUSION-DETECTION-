{
  "nbformat": 4,
  "nbformat_minor": 0,
  "metadata": {
    "colab": {
      "provenance": []
    },
    "kernelspec": {
      "name": "python3",
      "display_name": "Python 3"
    },
    "language_info": {
      "name": "python"
    }
  },
  "cells": [
    {
      "cell_type": "code",
      "execution_count": null,
      "metadata": {
        "colab": {
          "base_uri": "https://localhost:8080/"
        },
        "id": "_9jLjCNvR7Qz",
        "outputId": "1d0fdab9-3726-4963-ad48-e656594530dd"
      },
      "outputs": [
        {
          "output_type": "stream",
          "name": "stdout",
          "text": [
            "Mounted at /content/drive\n"
          ]
        }
      ],
      "source": [
        "from google.colab import drive\n",
        "drive.mount('/content/drive')"
      ]
    },
    {
      "cell_type": "code",
      "source": [
        "import numpy as np\n",
        "import pandas as pd\n",
        "import matplotlib.pyplot as plt\n",
        "import sklearn"
      ],
      "metadata": {
        "id": "5GvZ2kK0Snpx"
      },
      "execution_count": null,
      "outputs": []
    },
    {
      "cell_type": "code",
      "source": [
        "df = pd.read_csv('/content/drive/MyDrive/cic-ids/cleaned_data1.csv')"
      ],
      "metadata": {
        "id": "Nb-jR_GkY77B"
      },
      "execution_count": null,
      "outputs": []
    },
    {
      "cell_type": "markdown",
      "source": [
        "# Feature Engineering and Scaling\n",
        "\n",
        "\n",
        "\n"
      ],
      "metadata": {
        "id": "VLzbjJWQcpeZ"
      }
    },
    {
      "cell_type": "code",
      "source": [
        "df.drop('Dst Port', axis='columns')"
      ],
      "metadata": {
        "colab": {
          "base_uri": "https://localhost:8080/",
          "height": 540
        },
        "id": "7vNTLVT1nFVn",
        "outputId": "3eeb53ca-c1c8-4976-962e-4c55f905807b"
      },
      "execution_count": null,
      "outputs": [
        {
          "output_type": "execute_result",
          "data": {
            "text/plain": [
              "         Flow Duration  Tot Fwd Pkts  Tot Bwd Pkts  TotLen Fwd Pkts  \\\n",
              "0            112641719             3             0                0   \n",
              "1            112641466             3             0                0   \n",
              "2            112638623             3             0                0   \n",
              "3              6453966            15            10             1239   \n",
              "4              8804066            14            11             1143   \n",
              "...                ...           ...           ...              ...   \n",
              "3145720        3982183            14             8             1442   \n",
              "3145721        3802316            14             8             1440   \n",
              "3145722        4004239            14             8             1459   \n",
              "3145723        3998435            14             8             1459   \n",
              "3145724        3972651            14             8             1439   \n",
              "\n",
              "         TotLen Bwd Pkts  Fwd Pkt Len Max  Fwd Pkt Len Min  Fwd Pkt Len Mean  \\\n",
              "0                      0                0                0          0.000000   \n",
              "1                      0                0                0          0.000000   \n",
              "2                      0                0                0          0.000000   \n",
              "3                   2273              744                0         82.600000   \n",
              "4                   2209              744                0         81.642857   \n",
              "...                  ...              ...              ...               ...   \n",
              "3145720             1731              725                0        103.000000   \n",
              "3145721             1731              725                0        102.857143   \n",
              "3145722             1731              741                0        104.214286   \n",
              "3145723             1731              741                0        104.214286   \n",
              "3145724             1731              725                0        102.785714   \n",
              "\n",
              "         Fwd Pkt Len Std  Bwd Pkt Len Max  ...  Active Std  Active Max  \\\n",
              "0               0.000000                0  ...         0.0           0   \n",
              "1               0.000000                0  ...         0.0           0   \n",
              "2               0.000000                0  ...         0.0           0   \n",
              "3             196.741237              976  ...         0.0           0   \n",
              "4             203.745545              976  ...         0.0           0   \n",
              "...                  ...              ...  ...         ...         ...   \n",
              "3145720       191.125412             1179  ...         0.0           0   \n",
              "3145721       191.172841             1179  ...         0.0           0   \n",
              "3145722       195.113450             1179  ...         0.0           0   \n",
              "3145723       195.113450             1179  ...         0.0           0   \n",
              "3145724       191.197111             1179  ...         0.0           0   \n",
              "\n",
              "         Active Min   Idle Mean    Idle Std  Idle Max  Idle Min  Label  \\\n",
              "0                 0  56320859.5  139.300036  56320958  56320761      0   \n",
              "1                 0  56320733.0  114.551299  56320814  56320652      0   \n",
              "2                 0  56319311.5  301.934596  56319525  56319098      0   \n",
              "3                 0         0.0    0.000000         0         0      0   \n",
              "4                 0         0.0    0.000000         0         0      0   \n",
              "...             ...         ...         ...       ...       ...    ...   \n",
              "3145720           0         0.0    0.000000         0         0      0   \n",
              "3145721           0         0.0    0.000000         0         0      0   \n",
              "3145722           0         0.0    0.000000         0         0      0   \n",
              "3145723           0         0.0    0.000000         0         0      0   \n",
              "3145724           0         0.0    0.000000         0         0      0   \n",
              "\n",
              "         Protocol_17  Protocol_6  \n",
              "0                  0           0  \n",
              "1                  0           0  \n",
              "2                  0           0  \n",
              "3                  0           1  \n",
              "4                  0           1  \n",
              "...              ...         ...  \n",
              "3145720            0           1  \n",
              "3145721            0           1  \n",
              "3145722            0           1  \n",
              "3145723            0           1  \n",
              "3145724            0           1  \n",
              "\n",
              "[3145725 rows x 78 columns]"
            ],
            "text/html": [
              "\n",
              "  <div id=\"df-3aeafe5b-869d-4368-a33f-0e983ffec94f\">\n",
              "    <div class=\"colab-df-container\">\n",
              "      <div>\n",
              "<style scoped>\n",
              "    .dataframe tbody tr th:only-of-type {\n",
              "        vertical-align: middle;\n",
              "    }\n",
              "\n",
              "    .dataframe tbody tr th {\n",
              "        vertical-align: top;\n",
              "    }\n",
              "\n",
              "    .dataframe thead th {\n",
              "        text-align: right;\n",
              "    }\n",
              "</style>\n",
              "<table border=\"1\" class=\"dataframe\">\n",
              "  <thead>\n",
              "    <tr style=\"text-align: right;\">\n",
              "      <th></th>\n",
              "      <th>Flow Duration</th>\n",
              "      <th>Tot Fwd Pkts</th>\n",
              "      <th>Tot Bwd Pkts</th>\n",
              "      <th>TotLen Fwd Pkts</th>\n",
              "      <th>TotLen Bwd Pkts</th>\n",
              "      <th>Fwd Pkt Len Max</th>\n",
              "      <th>Fwd Pkt Len Min</th>\n",
              "      <th>Fwd Pkt Len Mean</th>\n",
              "      <th>Fwd Pkt Len Std</th>\n",
              "      <th>Bwd Pkt Len Max</th>\n",
              "      <th>...</th>\n",
              "      <th>Active Std</th>\n",
              "      <th>Active Max</th>\n",
              "      <th>Active Min</th>\n",
              "      <th>Idle Mean</th>\n",
              "      <th>Idle Std</th>\n",
              "      <th>Idle Max</th>\n",
              "      <th>Idle Min</th>\n",
              "      <th>Label</th>\n",
              "      <th>Protocol_17</th>\n",
              "      <th>Protocol_6</th>\n",
              "    </tr>\n",
              "  </thead>\n",
              "  <tbody>\n",
              "    <tr>\n",
              "      <th>0</th>\n",
              "      <td>112641719</td>\n",
              "      <td>3</td>\n",
              "      <td>0</td>\n",
              "      <td>0</td>\n",
              "      <td>0</td>\n",
              "      <td>0</td>\n",
              "      <td>0</td>\n",
              "      <td>0.000000</td>\n",
              "      <td>0.000000</td>\n",
              "      <td>0</td>\n",
              "      <td>...</td>\n",
              "      <td>0.0</td>\n",
              "      <td>0</td>\n",
              "      <td>0</td>\n",
              "      <td>56320859.5</td>\n",
              "      <td>139.300036</td>\n",
              "      <td>56320958</td>\n",
              "      <td>56320761</td>\n",
              "      <td>0</td>\n",
              "      <td>0</td>\n",
              "      <td>0</td>\n",
              "    </tr>\n",
              "    <tr>\n",
              "      <th>1</th>\n",
              "      <td>112641466</td>\n",
              "      <td>3</td>\n",
              "      <td>0</td>\n",
              "      <td>0</td>\n",
              "      <td>0</td>\n",
              "      <td>0</td>\n",
              "      <td>0</td>\n",
              "      <td>0.000000</td>\n",
              "      <td>0.000000</td>\n",
              "      <td>0</td>\n",
              "      <td>...</td>\n",
              "      <td>0.0</td>\n",
              "      <td>0</td>\n",
              "      <td>0</td>\n",
              "      <td>56320733.0</td>\n",
              "      <td>114.551299</td>\n",
              "      <td>56320814</td>\n",
              "      <td>56320652</td>\n",
              "      <td>0</td>\n",
              "      <td>0</td>\n",
              "      <td>0</td>\n",
              "    </tr>\n",
              "    <tr>\n",
              "      <th>2</th>\n",
              "      <td>112638623</td>\n",
              "      <td>3</td>\n",
              "      <td>0</td>\n",
              "      <td>0</td>\n",
              "      <td>0</td>\n",
              "      <td>0</td>\n",
              "      <td>0</td>\n",
              "      <td>0.000000</td>\n",
              "      <td>0.000000</td>\n",
              "      <td>0</td>\n",
              "      <td>...</td>\n",
              "      <td>0.0</td>\n",
              "      <td>0</td>\n",
              "      <td>0</td>\n",
              "      <td>56319311.5</td>\n",
              "      <td>301.934596</td>\n",
              "      <td>56319525</td>\n",
              "      <td>56319098</td>\n",
              "      <td>0</td>\n",
              "      <td>0</td>\n",
              "      <td>0</td>\n",
              "    </tr>\n",
              "    <tr>\n",
              "      <th>3</th>\n",
              "      <td>6453966</td>\n",
              "      <td>15</td>\n",
              "      <td>10</td>\n",
              "      <td>1239</td>\n",
              "      <td>2273</td>\n",
              "      <td>744</td>\n",
              "      <td>0</td>\n",
              "      <td>82.600000</td>\n",
              "      <td>196.741237</td>\n",
              "      <td>976</td>\n",
              "      <td>...</td>\n",
              "      <td>0.0</td>\n",
              "      <td>0</td>\n",
              "      <td>0</td>\n",
              "      <td>0.0</td>\n",
              "      <td>0.000000</td>\n",
              "      <td>0</td>\n",
              "      <td>0</td>\n",
              "      <td>0</td>\n",
              "      <td>0</td>\n",
              "      <td>1</td>\n",
              "    </tr>\n",
              "    <tr>\n",
              "      <th>4</th>\n",
              "      <td>8804066</td>\n",
              "      <td>14</td>\n",
              "      <td>11</td>\n",
              "      <td>1143</td>\n",
              "      <td>2209</td>\n",
              "      <td>744</td>\n",
              "      <td>0</td>\n",
              "      <td>81.642857</td>\n",
              "      <td>203.745545</td>\n",
              "      <td>976</td>\n",
              "      <td>...</td>\n",
              "      <td>0.0</td>\n",
              "      <td>0</td>\n",
              "      <td>0</td>\n",
              "      <td>0.0</td>\n",
              "      <td>0.000000</td>\n",
              "      <td>0</td>\n",
              "      <td>0</td>\n",
              "      <td>0</td>\n",
              "      <td>0</td>\n",
              "      <td>1</td>\n",
              "    </tr>\n",
              "    <tr>\n",
              "      <th>...</th>\n",
              "      <td>...</td>\n",
              "      <td>...</td>\n",
              "      <td>...</td>\n",
              "      <td>...</td>\n",
              "      <td>...</td>\n",
              "      <td>...</td>\n",
              "      <td>...</td>\n",
              "      <td>...</td>\n",
              "      <td>...</td>\n",
              "      <td>...</td>\n",
              "      <td>...</td>\n",
              "      <td>...</td>\n",
              "      <td>...</td>\n",
              "      <td>...</td>\n",
              "      <td>...</td>\n",
              "      <td>...</td>\n",
              "      <td>...</td>\n",
              "      <td>...</td>\n",
              "      <td>...</td>\n",
              "      <td>...</td>\n",
              "      <td>...</td>\n",
              "    </tr>\n",
              "    <tr>\n",
              "      <th>3145720</th>\n",
              "      <td>3982183</td>\n",
              "      <td>14</td>\n",
              "      <td>8</td>\n",
              "      <td>1442</td>\n",
              "      <td>1731</td>\n",
              "      <td>725</td>\n",
              "      <td>0</td>\n",
              "      <td>103.000000</td>\n",
              "      <td>191.125412</td>\n",
              "      <td>1179</td>\n",
              "      <td>...</td>\n",
              "      <td>0.0</td>\n",
              "      <td>0</td>\n",
              "      <td>0</td>\n",
              "      <td>0.0</td>\n",
              "      <td>0.000000</td>\n",
              "      <td>0</td>\n",
              "      <td>0</td>\n",
              "      <td>0</td>\n",
              "      <td>0</td>\n",
              "      <td>1</td>\n",
              "    </tr>\n",
              "    <tr>\n",
              "      <th>3145721</th>\n",
              "      <td>3802316</td>\n",
              "      <td>14</td>\n",
              "      <td>8</td>\n",
              "      <td>1440</td>\n",
              "      <td>1731</td>\n",
              "      <td>725</td>\n",
              "      <td>0</td>\n",
              "      <td>102.857143</td>\n",
              "      <td>191.172841</td>\n",
              "      <td>1179</td>\n",
              "      <td>...</td>\n",
              "      <td>0.0</td>\n",
              "      <td>0</td>\n",
              "      <td>0</td>\n",
              "      <td>0.0</td>\n",
              "      <td>0.000000</td>\n",
              "      <td>0</td>\n",
              "      <td>0</td>\n",
              "      <td>0</td>\n",
              "      <td>0</td>\n",
              "      <td>1</td>\n",
              "    </tr>\n",
              "    <tr>\n",
              "      <th>3145722</th>\n",
              "      <td>4004239</td>\n",
              "      <td>14</td>\n",
              "      <td>8</td>\n",
              "      <td>1459</td>\n",
              "      <td>1731</td>\n",
              "      <td>741</td>\n",
              "      <td>0</td>\n",
              "      <td>104.214286</td>\n",
              "      <td>195.113450</td>\n",
              "      <td>1179</td>\n",
              "      <td>...</td>\n",
              "      <td>0.0</td>\n",
              "      <td>0</td>\n",
              "      <td>0</td>\n",
              "      <td>0.0</td>\n",
              "      <td>0.000000</td>\n",
              "      <td>0</td>\n",
              "      <td>0</td>\n",
              "      <td>0</td>\n",
              "      <td>0</td>\n",
              "      <td>1</td>\n",
              "    </tr>\n",
              "    <tr>\n",
              "      <th>3145723</th>\n",
              "      <td>3998435</td>\n",
              "      <td>14</td>\n",
              "      <td>8</td>\n",
              "      <td>1459</td>\n",
              "      <td>1731</td>\n",
              "      <td>741</td>\n",
              "      <td>0</td>\n",
              "      <td>104.214286</td>\n",
              "      <td>195.113450</td>\n",
              "      <td>1179</td>\n",
              "      <td>...</td>\n",
              "      <td>0.0</td>\n",
              "      <td>0</td>\n",
              "      <td>0</td>\n",
              "      <td>0.0</td>\n",
              "      <td>0.000000</td>\n",
              "      <td>0</td>\n",
              "      <td>0</td>\n",
              "      <td>0</td>\n",
              "      <td>0</td>\n",
              "      <td>1</td>\n",
              "    </tr>\n",
              "    <tr>\n",
              "      <th>3145724</th>\n",
              "      <td>3972651</td>\n",
              "      <td>14</td>\n",
              "      <td>8</td>\n",
              "      <td>1439</td>\n",
              "      <td>1731</td>\n",
              "      <td>725</td>\n",
              "      <td>0</td>\n",
              "      <td>102.785714</td>\n",
              "      <td>191.197111</td>\n",
              "      <td>1179</td>\n",
              "      <td>...</td>\n",
              "      <td>0.0</td>\n",
              "      <td>0</td>\n",
              "      <td>0</td>\n",
              "      <td>0.0</td>\n",
              "      <td>0.000000</td>\n",
              "      <td>0</td>\n",
              "      <td>0</td>\n",
              "      <td>0</td>\n",
              "      <td>0</td>\n",
              "      <td>1</td>\n",
              "    </tr>\n",
              "  </tbody>\n",
              "</table>\n",
              "<p>3145725 rows × 78 columns</p>\n",
              "</div>\n",
              "      <button class=\"colab-df-convert\" onclick=\"convertToInteractive('df-3aeafe5b-869d-4368-a33f-0e983ffec94f')\"\n",
              "              title=\"Convert this dataframe to an interactive table.\"\n",
              "              style=\"display:none;\">\n",
              "        \n",
              "  <svg xmlns=\"http://www.w3.org/2000/svg\" height=\"24px\"viewBox=\"0 0 24 24\"\n",
              "       width=\"24px\">\n",
              "    <path d=\"M0 0h24v24H0V0z\" fill=\"none\"/>\n",
              "    <path d=\"M18.56 5.44l.94 2.06.94-2.06 2.06-.94-2.06-.94-.94-2.06-.94 2.06-2.06.94zm-11 1L8.5 8.5l.94-2.06 2.06-.94-2.06-.94L8.5 2.5l-.94 2.06-2.06.94zm10 10l.94 2.06.94-2.06 2.06-.94-2.06-.94-.94-2.06-.94 2.06-2.06.94z\"/><path d=\"M17.41 7.96l-1.37-1.37c-.4-.4-.92-.59-1.43-.59-.52 0-1.04.2-1.43.59L10.3 9.45l-7.72 7.72c-.78.78-.78 2.05 0 2.83L4 21.41c.39.39.9.59 1.41.59.51 0 1.02-.2 1.41-.59l7.78-7.78 2.81-2.81c.8-.78.8-2.07 0-2.86zM5.41 20L4 18.59l7.72-7.72 1.47 1.35L5.41 20z\"/>\n",
              "  </svg>\n",
              "      </button>\n",
              "      \n",
              "  <style>\n",
              "    .colab-df-container {\n",
              "      display:flex;\n",
              "      flex-wrap:wrap;\n",
              "      gap: 12px;\n",
              "    }\n",
              "\n",
              "    .colab-df-convert {\n",
              "      background-color: #E8F0FE;\n",
              "      border: none;\n",
              "      border-radius: 50%;\n",
              "      cursor: pointer;\n",
              "      display: none;\n",
              "      fill: #1967D2;\n",
              "      height: 32px;\n",
              "      padding: 0 0 0 0;\n",
              "      width: 32px;\n",
              "    }\n",
              "\n",
              "    .colab-df-convert:hover {\n",
              "      background-color: #E2EBFA;\n",
              "      box-shadow: 0px 1px 2px rgba(60, 64, 67, 0.3), 0px 1px 3px 1px rgba(60, 64, 67, 0.15);\n",
              "      fill: #174EA6;\n",
              "    }\n",
              "\n",
              "    [theme=dark] .colab-df-convert {\n",
              "      background-color: #3B4455;\n",
              "      fill: #D2E3FC;\n",
              "    }\n",
              "\n",
              "    [theme=dark] .colab-df-convert:hover {\n",
              "      background-color: #434B5C;\n",
              "      box-shadow: 0px 1px 3px 1px rgba(0, 0, 0, 0.15);\n",
              "      filter: drop-shadow(0px 1px 2px rgba(0, 0, 0, 0.3));\n",
              "      fill: #FFFFFF;\n",
              "    }\n",
              "  </style>\n",
              "\n",
              "      <script>\n",
              "        const buttonEl =\n",
              "          document.querySelector('#df-3aeafe5b-869d-4368-a33f-0e983ffec94f button.colab-df-convert');\n",
              "        buttonEl.style.display =\n",
              "          google.colab.kernel.accessAllowed ? 'block' : 'none';\n",
              "\n",
              "        async function convertToInteractive(key) {\n",
              "          const element = document.querySelector('#df-3aeafe5b-869d-4368-a33f-0e983ffec94f');\n",
              "          const dataTable =\n",
              "            await google.colab.kernel.invokeFunction('convertToInteractive',\n",
              "                                                     [key], {});\n",
              "          if (!dataTable) return;\n",
              "\n",
              "          const docLinkHtml = 'Like what you see? Visit the ' +\n",
              "            '<a target=\"_blank\" href=https://colab.research.google.com/notebooks/data_table.ipynb>data table notebook</a>'\n",
              "            + ' to learn more about interactive tables.';\n",
              "          element.innerHTML = '';\n",
              "          dataTable['output_type'] = 'display_data';\n",
              "          await google.colab.output.renderOutput(dataTable, element);\n",
              "          const docLink = document.createElement('div');\n",
              "          docLink.innerHTML = docLinkHtml;\n",
              "          element.appendChild(docLink);\n",
              "        }\n",
              "      </script>\n",
              "    </div>\n",
              "  </div>\n",
              "  "
            ]
          },
          "metadata": {},
          "execution_count": 17
        }
      ]
    },
    {
      "cell_type": "code",
      "source": [
        "df.replace(to_replace=[\"Bot\", \"FTP-BruteForce\", \"SSH-Bruteforce\",\"DoS attacks-GoldenEye\",\"DoS attacks-Slowloris\"], value=\"Malicious\", inplace=True)\n",
        "df.replace(to_replace=\"Benign\", value=0, inplace=True)\n",
        "df.replace(to_replace=\"Malicious\", value=1, inplace=True)\n"
      ],
      "metadata": {
        "id": "-zCxagmlcT5o"
      },
      "execution_count": null,
      "outputs": []
    },
    {
      "cell_type": "code",
      "source": [
        "y = df['Label']\n",
        "X = df.drop(['Label'],axis=1)"
      ],
      "metadata": {
        "id": "UjyYvhIGc32q"
      },
      "execution_count": null,
      "outputs": []
    },
    {
      "cell_type": "code",
      "source": [
        "from sklearn.model_selection import train_test_split\n",
        "X_train, X_test, y_train, y_test = train_test_split(X, y, test_size=0.3)"
      ],
      "metadata": {
        "id": "I3ObzRppc_MX"
      },
      "execution_count": null,
      "outputs": []
    },
    {
      "cell_type": "markdown",
      "source": [
        "# Building the Model"
      ],
      "metadata": {
        "id": "3l5aLAHYL2WT"
      }
    },
    {
      "cell_type": "code",
      "source": [
        "from sklearn.ensemble import RandomForestClassifier"
      ],
      "metadata": {
        "id": "iTNBKge5dN7F"
      },
      "execution_count": null,
      "outputs": []
    },
    {
      "cell_type": "code",
      "source": [
        "clf=RandomForestClassifier(n_estimators=100, bootstrap=True)"
      ],
      "metadata": {
        "id": "VHS8Bub7dT_J"
      },
      "execution_count": null,
      "outputs": []
    },
    {
      "cell_type": "code",
      "source": [
        "clf.fit(X_train,y_train)\n"
      ],
      "metadata": {
        "colab": {
          "base_uri": "https://localhost:8080/"
        },
        "id": "ooDaFa8RdVn1",
        "outputId": "9b6bc859-2718-46ed-e681-fb8a4894018d"
      },
      "execution_count": null,
      "outputs": [
        {
          "output_type": "execute_result",
          "data": {
            "text/plain": [
              "RandomForestClassifier()"
            ]
          },
          "metadata": {},
          "execution_count": 23
        }
      ]
    },
    {
      "cell_type": "code",
      "source": [
        "y_pred=clf.predict(X_test)\n"
      ],
      "metadata": {
        "id": "zWJxgH_hiVZY"
      },
      "execution_count": null,
      "outputs": []
    },
    {
      "cell_type": "code",
      "source": [
        "from sklearn import metrics\n",
        "# Model Accuracy, how often is the classifier correct?\n",
        "print(\"Accuracy:\",metrics.accuracy_score(y_test, y_pred))\n"
      ],
      "metadata": {
        "colab": {
          "base_uri": "https://localhost:8080/"
        },
        "id": "_7kGWQLqixrA",
        "outputId": "9c9d07ab-50bc-4220-b799-2bcd7dab6569"
      },
      "execution_count": null,
      "outputs": [
        {
          "output_type": "stream",
          "name": "stdout",
          "text": [
            "Accuracy: 0.9999682108426458\n"
          ]
        }
      ]
    },
    {
      "cell_type": "markdown",
      "source": [
        "# Finding features "
      ],
      "metadata": {
        "id": "Lb9VUPk7OaFX"
      }
    },
    {
      "cell_type": "code",
      "source": [
        "import pandas as pd\n",
        "feature_imp = pd.Series(clf.feature_importances_,index=X.columns).sort_values(ascending=False)\n",
        "feature_imp"
      ],
      "metadata": {
        "colab": {
          "base_uri": "https://localhost:8080/"
        },
        "id": "2SGAY5feizHV",
        "outputId": "8dead5a4-4c73-4588-da3f-4ee162fa7838"
      },
      "execution_count": null,
      "outputs": [
        {
          "output_type": "execute_result",
          "data": {
            "text/plain": [
              "Dst Port             0.114788\n",
              "Fwd Seg Size Min     0.109131\n",
              "Init Fwd Win Byts    0.084480\n",
              "Flow Pkts/s          0.047030\n",
              "Fwd Pkts/s           0.045434\n",
              "                       ...   \n",
              "Bwd Byts/b Avg       0.000000\n",
              "Fwd Blk Rate Avg     0.000000\n",
              "Fwd Pkts/b Avg       0.000000\n",
              "Fwd Byts/b Avg       0.000000\n",
              "CWE Flag Count       0.000000\n",
              "Length: 78, dtype: float64"
            ]
          },
          "metadata": {},
          "execution_count": 26
        }
      ]
    },
    {
      "cell_type": "code",
      "source": [
        "importances = clf.feature_importances_"
      ],
      "metadata": {
        "id": "bIP4Jp4ZmYnz"
      },
      "execution_count": null,
      "outputs": []
    },
    {
      "cell_type": "code",
      "source": [
        "indices = np.argsort(importances)[::-1]"
      ],
      "metadata": {
        "id": "gi3sjI7pmkCY"
      },
      "execution_count": null,
      "outputs": []
    },
    {
      "cell_type": "code",
      "source": [
        "print(\"Feature ranking:\")\n",
        "for f in range(X_train.shape[1]):\n",
        "    print(\"%d. feature %d (%f)\" % (f + 1, indices[f], importances[indices[f]]))"
      ],
      "metadata": {
        "colab": {
          "base_uri": "https://localhost:8080/"
        },
        "id": "K4wdV6AAmmo9",
        "outputId": "3360a1d2-87dd-43c1-9248-35abd8a3ce2e"
      },
      "execution_count": null,
      "outputs": [
        {
          "output_type": "stream",
          "name": "stdout",
          "text": [
            "Feature ranking:\n",
            "1. feature 0 (0.114788)\n",
            "2. feature 67 (0.109131)\n",
            "3. feature 64 (0.084480)\n",
            "4. feature 15 (0.047030)\n",
            "5. feature 36 (0.045434)\n",
            "6. feature 37 (0.044728)\n",
            "7. feature 16 (0.038419)\n",
            "8. feature 18 (0.036412)\n",
            "9. feature 21 (0.029041)\n",
            "10. feature 20 (0.026164)\n",
            "11. feature 1 (0.025875)\n",
            "12. feature 12 (0.025211)\n",
            "13. feature 23 (0.024702)\n",
            "14. feature 19 (0.024023)\n",
            "15. feature 24 (0.020527)\n",
            "16. feature 34 (0.018306)\n",
            "17. feature 9 (0.017494)\n",
            "18. feature 61 (0.016458)\n",
            "19. feature 35 (0.013032)\n",
            "20. feature 53 (0.012713)\n",
            "21. feature 40 (0.012274)\n",
            "22. feature 66 (0.011682)\n",
            "23. feature 6 (0.011634)\n",
            "24. feature 5 (0.010369)\n",
            "25. feature 51 (0.010298)\n",
            "26. feature 4 (0.010136)\n",
            "27. feature 65 (0.009678)\n",
            "28. feature 52 (0.009663)\n",
            "29. feature 22 (0.009103)\n",
            "30. feature 62 (0.008917)\n",
            "31. feature 41 (0.008772)\n",
            "32. feature 8 (0.008661)\n",
            "33. feature 50 (0.007687)\n",
            "34. feature 60 (0.007231)\n",
            "35. feature 3 (0.006998)\n",
            "36. feature 14 (0.006957)\n",
            "37. feature 42 (0.006481)\n",
            "38. feature 45 (0.006424)\n",
            "39. feature 10 (0.006285)\n",
            "40. feature 2 (0.006237)\n",
            "41. feature 63 (0.006011)\n",
            "42. feature 17 (0.005337)\n",
            "43. feature 46 (0.005093)\n",
            "44. feature 26 (0.004808)\n",
            "45. feature 28 (0.003934)\n",
            "46. feature 25 (0.003024)\n",
            "47. feature 47 (0.002821)\n",
            "48. feature 27 (0.002731)\n",
            "49. feature 39 (0.002278)\n",
            "50. feature 48 (0.002007)\n",
            "51. feature 7 (0.001961)\n",
            "52. feature 29 (0.001528)\n",
            "53. feature 77 (0.001459)\n",
            "54. feature 74 (0.001325)\n",
            "55. feature 13 (0.001275)\n",
            "56. feature 11 (0.000920)\n",
            "57. feature 72 (0.000886)\n",
            "58. feature 44 (0.000712)\n",
            "59. feature 73 (0.000606)\n",
            "60. feature 68 (0.000587)\n",
            "61. feature 75 (0.000368)\n",
            "62. feature 70 (0.000220)\n",
            "63. feature 30 (0.000180)\n",
            "64. feature 71 (0.000173)\n",
            "65. feature 76 (0.000132)\n",
            "66. feature 69 (0.000096)\n",
            "67. feature 43 (0.000064)\n",
            "68. feature 38 (0.000009)\n",
            "69. feature 59 (0.000000)\n",
            "70. feature 58 (0.000000)\n",
            "71. feature 31 (0.000000)\n",
            "72. feature 56 (0.000000)\n",
            "73. feature 55 (0.000000)\n",
            "74. feature 54 (0.000000)\n",
            "75. feature 49 (0.000000)\n",
            "76. feature 33 (0.000000)\n",
            "77. feature 32 (0.000000)\n",
            "78. feature 57 (0.000000)\n"
          ]
        }
      ]
    },
    {
      "cell_type": "code",
      "source": [
        "import matplotlib.pyplot as plt\n",
        "import seaborn as sns\n",
        "%matplotlib inline\n",
        "plt.figure(figsize=(25,30))\n",
        "# Creating a bar plot\n",
        "sns.barplot(x=feature_imp, y=feature_imp.index)\n",
        "# Add labels to your graph\n",
        "plt.xlabel('Feature Importance Score')\n",
        "plt.ylabel('Features')\n",
        "plt.title(\"Visualizing Important Features\")\n",
        "plt.legend()\n",
        "\n"
      ],
      "metadata": {
        "colab": {
          "base_uri": "https://localhost:8080/",
          "height": 1000
        },
        "id": "dKPFxiqEjrJk",
        "outputId": "3b005cec-de44-4d69-f1c4-f877fdad13e9"
      },
      "execution_count": null,
      "outputs": [
        {
          "output_type": "stream",
          "name": "stderr",
          "text": [
            "WARNING:matplotlib.legend:No handles with labels found to put in legend.\n"
          ]
        },
        {
          "output_type": "execute_result",
          "data": {
            "text/plain": [
              "<matplotlib.legend.Legend at 0x7f904a975e50>"
            ]
          },
          "metadata": {},
          "execution_count": 16
        },
        {
          "output_type": "display_data",
          "data": {
            "text/plain": [
              "<Figure size 1800x2160 with 1 Axes>"
            ],
            "image/png": "[encoded data removed]"
          },
          "metadata": {
            "needs_background": "light"
          }
        }
      ]
    }
  ]
}