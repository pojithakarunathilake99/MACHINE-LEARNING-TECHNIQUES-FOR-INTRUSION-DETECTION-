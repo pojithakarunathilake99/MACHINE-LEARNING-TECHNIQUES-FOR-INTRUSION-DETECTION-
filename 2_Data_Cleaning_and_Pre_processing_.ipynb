{
  "nbformat": 4,
  "nbformat_minor": 0,
  "metadata": {
    "colab": {
      "provenance": []
    },
    "kernelspec": {
      "name": "python3",
      "display_name": "Python 3"
    },
    "language_info": {
      "name": "python"
    }
  },
  "cells": [
    {
      "cell_type": "code",
      "execution_count": null,
      "metadata": {
        "id": "Igi--XgpLjVa",
        "colab": {
          "base_uri": "https://localhost:8080/"
        },
        "outputId": "62b0ff0c-c279-4e71-d830-0a91d60e1afc"
      },
      "outputs": [
        {
          "output_type": "stream",
          "name": "stdout",
          "text": [
            "Drive already mounted at /content/drive; to attempt to forcibly remount, call drive.mount(\"/content/drive\", force_remount=True).\n"
          ]
        }
      ],
      "source": [
        "from google.colab import drive\n",
        "drive.mount('/content/drive')"
      ]
    },
    {
      "cell_type": "code",
      "source": [
        "dataset_path = r'/content/drive/MyDrive/cic-ids2'"
      ],
      "metadata": {
        "id": "d6gMor9N9kfv"
      },
      "execution_count": null,
      "outputs": []
    },
    {
      "cell_type": "code",
      "source": [
        "import numpy as np\n",
        "import pandas as pd\n",
        "import glob\n",
        "import os"
      ],
      "metadata": {
        "id": "-P2wWesa-W4X"
      },
      "execution_count": null,
      "outputs": []
    },
    {
      "cell_type": "code",
      "source": [
        "types = {\n",
        "    'Dst Port': np.int32,\n",
        "    'Protocol': np.int8,\n",
        "    'Flow Duration': np.int64,\n",
        "    'Tot Fwd Pkts': np.int16,\n",
        "    'Tot Bwd Pkts': np.int16,\n",
        "    'TotLen Fwd Pkts': np.int32,\n",
        "    'TotLen Bwd Pkts': np.int32,\n",
        "    'Fwd Pkt Len Max': np.int32,\n",
        "    'Fwd Pkt Len Min': np.int32,\n",
        "    'Fwd Pkt Len Mean': np.float64,\n",
        "    'Fwd Pkt Len Std': np.float64,\n",
        "    'Bwd Pkt Len Max': np.int16,\n",
        "    'Bwd Pkt Len Min': np.int16,\n",
        "    'Bwd Pkt Len Mean': np.float64,\n",
        "    'Bwd Pkt Len Std': np.float64,\n",
        "    'Flow Byts/s': np.float64,\n",
        "    'Flow Pkts/s': np.float64,\n",
        "    'Flow IAT Mean': np.float64,\n",
        "    'Flow IAT Std': np.float64,\n",
        "    'Flow IAT Max': np.int64,\n",
        "    'Flow IAT Min': np.int32,\n",
        "    'Fwd IAT Tot': np.int32,\n",
        "    'Fwd IAT Mean': np.float32,\n",
        "    'Fwd IAT Std': np.float64,\n",
        "    'Fwd IAT Max': np.int32, \n",
        "    'Fwd IAT Min': np.int32,\n",
        "    'Bwd IAT Tot': np.int32,\n",
        "    'Bwd IAT Mean': np.float64,\n",
        "    'Bwd IAT Std': np.float64,\n",
        "    'Bwd IAT Max': np.int64,\n",
        "    'Bwd IAT Min': np.int64,\n",
        "    'Fwd PSH Flags': np.int8,\n",
        "    'Bwd PSH Flags': np.int8,\n",
        "    'Fwd URG Flags': np.int8,\n",
        "    'Bwd URG Flags': np.int8,\n",
        "    'Fwd Header Len': np.int32,\n",
        "    'Bwd Header Len': np.int32,\n",
        "    'Fwd Pkts/s' : np.float64,\n",
        "    'Bwd Pkts/s': np.float64,\n",
        "    'Pkt Len Min': np.int16,\n",
        "    'Pkt Len Max': np.int32,\n",
        "    'Pkt Len Mean': np.float64,\n",
        "    'Pkt Len Std': np.float64,\n",
        "    'Pkt Len Var': np.float64,\n",
        "    'FIN Flag Cnt': np.int8,\n",
        "    'SYN Flag Cnt': np.int8,\n",
        "    'RST Flag Cnt': np.int8,\n",
        "    'PSH Flag Cnt': np.int8,\n",
        "    'ACK Flag Cnt': np.int8,\n",
        "    'URG Flag Cnt': np.int8,\n",
        "    'CWE Flag Count': np.int8,\n",
        "    'ECE Flag Cnt': np.int8,\n",
        "    'Pkt Size Avg': np.float32,\n",
        "    'Fwd Seg Size Avg': np.float32,\n",
        "    'Bwd Seg Size Avg': np.float32,\n",
        "    'Fwd Byts/b Avg': np.int8,\n",
        "    'Fwd Pkts/b Avg': np.int8,\n",
        "    'Fwd Blk Rate Avg': np.int8,\n",
        "    'Bwd Byts/b Avg': np.int8,\n",
        "    'Bwd Pkts/b Avg': np.int8,\n",
        "    'Bwd Blk Rate Avg': np.int8,\n",
        "    'Subflow Fwd Pkts': np.int16,\n",
        "    'Subflow Fwd Byts': np.int32,\n",
        "    'Subflow Bwd Pkts': np.int16,\n",
        "    'Subflow Bwd Byts': np.int32,\n",
        "    'Init Fwd Win Byts': np.int32, \n",
        "    'Init Bwd Win Byts': np.int32,\n",
        "    'Fwd Act Data Pkts': np.int16,\n",
        "    'Fwd Seg Size Min': np.int8,\n",
        "    'Active Mean': np.float64,\n",
        "    'Active Std': np.float64,\n",
        "    'Active Max': np.int32,\n",
        "    'Active Min': np.int32,\n",
        "    'Idle Mean': np.float64,\n",
        "    'Idle Std': np.float64,\n",
        "    'Idle Max': np.int64,\n",
        "    'Idle Min': np.int64,\n",
        "    'Label': object\n",
        "}\n",
        "used_cols = (types.keys())"
      ],
      "metadata": {
        "id": "NOGVb9_x-0z4"
      },
      "execution_count": null,
      "outputs": []
    },
    {
      "cell_type": "code",
      "source": [
        "df1 = pd.read_csv('/content/drive/MyDrive/cic-ids2/02-14-2018.csv',dtype=types, usecols=used_cols)\n",
        "df2 = pd.read_csv('/content/drive/MyDrive/cic-ids2/02-15-2018.csv',dtype=types, usecols=used_cols)\n",
        "df9= pd.read_csv('/content/drive/MyDrive/cic-ids2/03-02-2018.csv',dtype=types, usecols=used_cols)\n"
      ],
      "metadata": {
        "id": "ek22Ex7n-33T"
      },
      "execution_count": null,
      "outputs": []
    },
    {
      "cell_type": "code",
      "source": [
        "merge = [\n",
        "    df1, \n",
        "    df2, \n",
        "    df9\n",
        "]\n"
      ],
      "metadata": {
        "id": "Udj9zGqr4uIM"
      },
      "execution_count": null,
      "outputs": []
    },
    {
      "cell_type": "code",
      "source": [
        "df = pd.concat(merge)\n",
        "del merge\n"
      ],
      "metadata": {
        "id": "gENVhS7q4wcS"
      },
      "execution_count": null,
      "outputs": []
    },
    {
      "cell_type": "code",
      "source": [
        "df.info()"
      ],
      "metadata": {
        "colab": {
          "base_uri": "https://localhost:8080/"
        },
        "id": "4Q28-rjQJDx9",
        "outputId": "41a10f34-68bd-47be-c0cd-e4c83d920c39"
      },
      "execution_count": null,
      "outputs": [
        {
          "output_type": "stream",
          "name": "stdout",
          "text": [
            "<class 'pandas.core.frame.DataFrame'>\n",
            "Int64Index: 3145725 entries, 0 to 1048574\n",
            "Data columns (total 78 columns):\n",
            " #   Column             Dtype  \n",
            "---  ------             -----  \n",
            " 0   Dst Port           int32  \n",
            " 1   Protocol           int8   \n",
            " 2   Flow Duration      int64  \n",
            " 3   Tot Fwd Pkts       int16  \n",
            " 4   Tot Bwd Pkts       int16  \n",
            " 5   TotLen Fwd Pkts    int32  \n",
            " 6   TotLen Bwd Pkts    int32  \n",
            " 7   Fwd Pkt Len Max    int32  \n",
            " 8   Fwd Pkt Len Min    int32  \n",
            " 9   Fwd Pkt Len Mean   float64\n",
            " 10  Fwd Pkt Len Std    float64\n",
            " 11  Bwd Pkt Len Max    int16  \n",
            " 12  Bwd Pkt Len Min    int16  \n",
            " 13  Bwd Pkt Len Mean   float64\n",
            " 14  Bwd Pkt Len Std    float64\n",
            " 15  Flow Byts/s        float64\n",
            " 16  Flow Pkts/s        float64\n",
            " 17  Flow IAT Mean      float64\n",
            " 18  Flow IAT Std       float64\n",
            " 19  Flow IAT Max       int64  \n",
            " 20  Flow IAT Min       int32  \n",
            " 21  Fwd IAT Tot        int32  \n",
            " 22  Fwd IAT Mean       float32\n",
            " 23  Fwd IAT Std        float64\n",
            " 24  Fwd IAT Max        int32  \n",
            " 25  Fwd IAT Min        int32  \n",
            " 26  Bwd IAT Tot        int32  \n",
            " 27  Bwd IAT Mean       float64\n",
            " 28  Bwd IAT Std        float64\n",
            " 29  Bwd IAT Max        int64  \n",
            " 30  Bwd IAT Min        int64  \n",
            " 31  Fwd PSH Flags      int8   \n",
            " 32  Bwd PSH Flags      int8   \n",
            " 33  Fwd URG Flags      int8   \n",
            " 34  Bwd URG Flags      int8   \n",
            " 35  Fwd Header Len     int32  \n",
            " 36  Bwd Header Len     int32  \n",
            " 37  Fwd Pkts/s         float64\n",
            " 38  Bwd Pkts/s         float64\n",
            " 39  Pkt Len Min        int16  \n",
            " 40  Pkt Len Max        int32  \n",
            " 41  Pkt Len Mean       float64\n",
            " 42  Pkt Len Std        float64\n",
            " 43  Pkt Len Var        float64\n",
            " 44  FIN Flag Cnt       int8   \n",
            " 45  SYN Flag Cnt       int8   \n",
            " 46  RST Flag Cnt       int8   \n",
            " 47  PSH Flag Cnt       int8   \n",
            " 48  ACK Flag Cnt       int8   \n",
            " 49  URG Flag Cnt       int8   \n",
            " 50  CWE Flag Count     int8   \n",
            " 51  ECE Flag Cnt       int8   \n",
            " 52  Pkt Size Avg       float32\n",
            " 53  Fwd Seg Size Avg   float32\n",
            " 54  Bwd Seg Size Avg   float32\n",
            " 55  Fwd Byts/b Avg     int8   \n",
            " 56  Fwd Pkts/b Avg     int8   \n",
            " 57  Fwd Blk Rate Avg   int8   \n",
            " 58  Bwd Byts/b Avg     int8   \n",
            " 59  Bwd Pkts/b Avg     int8   \n",
            " 60  Bwd Blk Rate Avg   int8   \n",
            " 61  Subflow Fwd Pkts   int16  \n",
            " 62  Subflow Fwd Byts   int32  \n",
            " 63  Subflow Bwd Pkts   int16  \n",
            " 64  Subflow Bwd Byts   int32  \n",
            " 65  Init Fwd Win Byts  int32  \n",
            " 66  Init Bwd Win Byts  int32  \n",
            " 67  Fwd Act Data Pkts  int16  \n",
            " 68  Fwd Seg Size Min   int8   \n",
            " 69  Active Mean        float64\n",
            " 70  Active Std         float64\n",
            " 71  Active Max         int32  \n",
            " 72  Active Min         int32  \n",
            " 73  Idle Mean          float64\n",
            " 74  Idle Std           float64\n",
            " 75  Idle Max           int64  \n",
            " 76  Idle Min           int64  \n",
            " 77  Label              object \n",
            "dtypes: float32(4), float64(20), int16(8), int32(19), int64(6), int8(20), object(1)\n",
            "memory usage: 1.0+ GB\n"
          ]
        }
      ]
    },
    {
      "cell_type": "markdown",
      "source": [
        "# Missing Filling Values\n",
        "\n",
        "There was inf values. they cannot use the calculation .So first we have to identify the inf value columns "
      ],
      "metadata": {
        "id": "Kmu3aGxZK_vl"
      }
    },
    {
      "cell_type": "code",
      "source": [
        "df.isna().sum().sum()"
      ],
      "metadata": {
        "colab": {
          "base_uri": "https://localhost:8080/"
        },
        "id": "sB0k93nd6AAd",
        "outputId": "374b8dd2-ce0c-4676-919e-00a4d3ed40ff"
      },
      "execution_count": null,
      "outputs": [
        {
          "output_type": "execute_result",
          "data": {
            "text/plain": [
              "9756"
            ]
          },
          "metadata": {},
          "execution_count": 10
        }
      ]
    },
    {
      "cell_type": "code",
      "source": [
        "columns = [val for val in df.columns if df[df[val] == np.inf][val].count() > 0]\n",
        "\n",
        "print(columns)"
      ],
      "metadata": {
        "colab": {
          "base_uri": "https://localhost:8080/"
        },
        "id": "GSCB9qmfLEo2",
        "outputId": "582f01cc-239c-44d6-d28a-442e398d5d5a"
      },
      "execution_count": null,
      "outputs": [
        {
          "output_type": "stream",
          "name": "stdout",
          "text": [
            "['Flow Byts/s', 'Flow Pkts/s']\n"
          ]
        }
      ]
    },
    {
      "cell_type": "markdown",
      "source": [
        "The two columns of inf values replaced with nan value"
      ],
      "metadata": {
        "id": "jNlrU7MQoIK8"
      }
    },
    {
      "cell_type": "code",
      "source": [
        "for col in columns:\n",
        "  df[col].replace([np.inf, -np.inf],np.nan, inplace=True)\n",
        "  mean = df[col].mean()\n",
        "  df[col].fillna(mean, inplace=True)"
      ],
      "metadata": {
        "id": "CQXWyx4miVET"
      },
      "execution_count": null,
      "outputs": []
    },
    {
      "cell_type": "code",
      "source": [
        "df.isna().sum().sum()"
      ],
      "metadata": {
        "colab": {
          "base_uri": "https://localhost:8080/"
        },
        "id": "GvJk06CM6Kcc",
        "outputId": "e7931633-2c19-49e8-fdb5-2d153b6b3034"
      },
      "execution_count": null,
      "outputs": [
        {
          "output_type": "execute_result",
          "data": {
            "text/plain": [
              "0"
            ]
          },
          "metadata": {},
          "execution_count": 13
        }
      ]
    },
    {
      "cell_type": "markdown",
      "source": [
        "# Assuming Protocol is a Categorized Label"
      ],
      "metadata": {
        "id": "XUeBJ62ioVa5"
      }
    },
    {
      "cell_type": "code",
      "source": [
        "df[\"Protocol\"].unique() "
      ],
      "metadata": {
        "colab": {
          "base_uri": "https://localhost:8080/"
        },
        "id": "JuddBe9ElU6_",
        "outputId": "fcc44888-5e63-4ad1-8ee2-04795aff3d50"
      },
      "execution_count": null,
      "outputs": [
        {
          "output_type": "execute_result",
          "data": {
            "text/plain": [
              "array([ 0,  6, 17], dtype=int8)"
            ]
          },
          "metadata": {},
          "execution_count": 17
        }
      ]
    },
    {
      "cell_type": "code",
      "source": [
        "df= df.astype({\"Protocol\": str})"
      ],
      "metadata": {
        "id": "wkkfRR3gng9m"
      },
      "execution_count": null,
      "outputs": []
    },
    {
      "cell_type": "code",
      "source": [
        "df[\"Protocol\"].unique() "
      ],
      "metadata": {
        "colab": {
          "base_uri": "https://localhost:8080/"
        },
        "id": "5L7MNVae-c0Z",
        "outputId": "977801a4-3cb7-406f-cfb3-dfc35ac2fad3"
      },
      "execution_count": null,
      "outputs": [
        {
          "output_type": "execute_result",
          "data": {
            "text/plain": [
              "array(['0', '6', '17'], dtype=object)"
            ]
          },
          "metadata": {},
          "execution_count": 19
        }
      ]
    },
    {
      "cell_type": "code",
      "source": [
        "df = pd.get_dummies(df, columns=['Protocol'], drop_first=True)"
      ],
      "metadata": {
        "id": "JCVZhTMdTVvr"
      },
      "execution_count": null,
      "outputs": []
    },
    {
      "cell_type": "code",
      "source": [
        "df.info()"
      ],
      "metadata": {
        "colab": {
          "base_uri": "https://localhost:8080/"
        },
        "id": "KnkqOci6-FsW",
        "outputId": "c1f3c94b-f147-4113-bac8-8b3e8f343d91"
      },
      "execution_count": null,
      "outputs": [
        {
          "output_type": "stream",
          "name": "stdout",
          "text": [
            "<class 'pandas.core.frame.DataFrame'>\n",
            "Int64Index: 3145725 entries, 0 to 1048574\n",
            "Data columns (total 79 columns):\n",
            " #   Column             Dtype  \n",
            "---  ------             -----  \n",
            " 0   Dst Port           int32  \n",
            " 1   Flow Duration      int64  \n",
            " 2   Tot Fwd Pkts       int16  \n",
            " 3   Tot Bwd Pkts       int16  \n",
            " 4   TotLen Fwd Pkts    int32  \n",
            " 5   TotLen Bwd Pkts    int32  \n",
            " 6   Fwd Pkt Len Max    int32  \n",
            " 7   Fwd Pkt Len Min    int32  \n",
            " 8   Fwd Pkt Len Mean   float64\n",
            " 9   Fwd Pkt Len Std    float64\n",
            " 10  Bwd Pkt Len Max    int16  \n",
            " 11  Bwd Pkt Len Min    int16  \n",
            " 12  Bwd Pkt Len Mean   float64\n",
            " 13  Bwd Pkt Len Std    float64\n",
            " 14  Flow Byts/s        float64\n",
            " 15  Flow Pkts/s        float64\n",
            " 16  Flow IAT Mean      float64\n",
            " 17  Flow IAT Std       float64\n",
            " 18  Flow IAT Max       int64  \n",
            " 19  Flow IAT Min       int32  \n",
            " 20  Fwd IAT Tot        int32  \n",
            " 21  Fwd IAT Mean       float32\n",
            " 22  Fwd IAT Std        float64\n",
            " 23  Fwd IAT Max        int32  \n",
            " 24  Fwd IAT Min        int32  \n",
            " 25  Bwd IAT Tot        int32  \n",
            " 26  Bwd IAT Mean       float64\n",
            " 27  Bwd IAT Std        float64\n",
            " 28  Bwd IAT Max        int64  \n",
            " 29  Bwd IAT Min        int64  \n",
            " 30  Fwd PSH Flags      int8   \n",
            " 31  Bwd PSH Flags      int8   \n",
            " 32  Fwd URG Flags      int8   \n",
            " 33  Bwd URG Flags      int8   \n",
            " 34  Fwd Header Len     int32  \n",
            " 35  Bwd Header Len     int32  \n",
            " 36  Fwd Pkts/s         float64\n",
            " 37  Bwd Pkts/s         float64\n",
            " 38  Pkt Len Min        int16  \n",
            " 39  Pkt Len Max        int32  \n",
            " 40  Pkt Len Mean       float64\n",
            " 41  Pkt Len Std        float64\n",
            " 42  Pkt Len Var        float64\n",
            " 43  FIN Flag Cnt       int8   \n",
            " 44  SYN Flag Cnt       int8   \n",
            " 45  RST Flag Cnt       int8   \n",
            " 46  PSH Flag Cnt       int8   \n",
            " 47  ACK Flag Cnt       int8   \n",
            " 48  URG Flag Cnt       int8   \n",
            " 49  CWE Flag Count     int8   \n",
            " 50  ECE Flag Cnt       int8   \n",
            " 51  Pkt Size Avg       float32\n",
            " 52  Fwd Seg Size Avg   float32\n",
            " 53  Bwd Seg Size Avg   float32\n",
            " 54  Fwd Byts/b Avg     int8   \n",
            " 55  Fwd Pkts/b Avg     int8   \n",
            " 56  Fwd Blk Rate Avg   int8   \n",
            " 57  Bwd Byts/b Avg     int8   \n",
            " 58  Bwd Pkts/b Avg     int8   \n",
            " 59  Bwd Blk Rate Avg   int8   \n",
            " 60  Subflow Fwd Pkts   int16  \n",
            " 61  Subflow Fwd Byts   int32  \n",
            " 62  Subflow Bwd Pkts   int16  \n",
            " 63  Subflow Bwd Byts   int32  \n",
            " 64  Init Fwd Win Byts  int32  \n",
            " 65  Init Bwd Win Byts  int32  \n",
            " 66  Fwd Act Data Pkts  int16  \n",
            " 67  Fwd Seg Size Min   int8   \n",
            " 68  Active Mean        float64\n",
            " 69  Active Std         float64\n",
            " 70  Active Max         int32  \n",
            " 71  Active Min         int32  \n",
            " 72  Idle Mean          float64\n",
            " 73  Idle Std           float64\n",
            " 74  Idle Max           int64  \n",
            " 75  Idle Min           int64  \n",
            " 76  Label              object \n",
            " 77  Protocol_17        uint8  \n",
            " 78  Protocol_6         uint8  \n",
            "dtypes: float32(4), float64(20), int16(8), int32(19), int64(6), int8(19), object(1), uint8(2)\n",
            "memory usage: 1.0+ GB\n"
          ]
        }
      ]
    },
    {
      "cell_type": "code",
      "source": [
        "df[\"Label\"].unique()"
      ],
      "metadata": {
        "colab": {
          "base_uri": "https://localhost:8080/"
        },
        "id": "VpIFFKh3h0Or",
        "outputId": "4047877d-7e73-4046-fde8-7e2596dadcfc"
      },
      "execution_count": null,
      "outputs": [
        {
          "output_type": "execute_result",
          "data": {
            "text/plain": [
              "array(['Benign', 'FTP-BruteForce', 'SSH-Bruteforce',\n",
              "       'DoS attacks-GoldenEye', 'DoS attacks-Slowloris', 'Bot'],\n",
              "      dtype=object)"
            ]
          },
          "metadata": {},
          "execution_count": 22
        }
      ]
    },
    {
      "cell_type": "code",
      "source": [
        "df.to_csv(\"/content/drive/MyDrive/cic-ids/cleaned_data1.csv\", index=False)"
      ],
      "metadata": {
        "id": "Z4Gpme_Uh_3p"
      },
      "execution_count": null,
      "outputs": []
    }
  ]
}