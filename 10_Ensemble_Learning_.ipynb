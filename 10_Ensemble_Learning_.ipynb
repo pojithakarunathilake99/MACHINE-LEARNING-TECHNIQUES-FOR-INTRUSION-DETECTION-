{
  "nbformat": 4,
  "nbformat_minor": 0,
  "metadata": {
    "colab": {
      "provenance": []
    },
    "kernelspec": {
      "name": "python3",
      "display_name": "Python 3"
    },
    "language_info": {
      "name": "python"
    }
  },
  "cells": [
    {
      "cell_type": "code",
      "source": [
        "from google.colab import drive\n",
        "drive.mount('/content/drive')"
      ],
      "metadata": {
        "colab": {
          "base_uri": "https://localhost:8080/"
        },
        "id": "7CJa2fI-U0sS",
        "outputId": "5df5cbff-d9e1-4ba9-81f1-3cccd19888d0"
      },
      "execution_count": null,
      "outputs": [
        {
          "output_type": "stream",
          "name": "stdout",
          "text": [
            "Drive already mounted at /content/drive; to attempt to forcibly remount, call drive.mount(\"/content/drive\", force_remount=True).\n"
          ]
        }
      ]
    },
    {
      "cell_type": "code",
      "source": [
        "import numpy as np\n",
        "import pandas as pd"
      ],
      "metadata": {
        "id": "aB0d3wS1Wlkb"
      },
      "execution_count": null,
      "outputs": []
    },
    {
      "cell_type": "code",
      "source": [
        "df = pd.read_csv('/content/drive/MyDrive/cic-ids/cleaned_data1.csv')"
      ],
      "metadata": {
        "id": "lYYOWiNQWrbK"
      },
      "execution_count": null,
      "outputs": []
    },
    {
      "cell_type": "markdown",
      "source": [
        "# Feature Engineering "
      ],
      "metadata": {
        "id": "3tnxZra-WxBJ"
      }
    },
    {
      "cell_type": "code",
      "source": [
        "df.replace(to_replace=[\"Bot\", \"FTP-BruteForce\", \"SSH-Bruteforce\",\"DoS attacks-GoldenEye\",\"DoS attacks-Slowloris\"], value=\"Malicious\", inplace=True)"
      ],
      "metadata": {
        "id": "LI3Z1EBssvvs"
      },
      "execution_count": null,
      "outputs": []
    },
    {
      "cell_type": "code",
      "source": [
        "df.replace(to_replace=\"Benign\", value=0, inplace=True)\n",
        "df.replace(to_replace=\"Malicious\", value=1, inplace=True)"
      ],
      "metadata": {
        "id": "2ynOf4IMuAlT"
      },
      "execution_count": null,
      "outputs": []
    },
    {
      "cell_type": "code",
      "source": [
        "columns_to_drop = [\n",
        "    'Bwd URG Flags','Bwd Pkts/b Avg','Bwd Blk Rate Avg','Fwd Pkts/b Avg','CWE Flag Count','Fwd URG Flags','Bwd PSH Flags','Fwd Byts/b Avg','Bwd Byts/b Avg','Fwd Blk Rate Avg','Protocol_17','Pkt Len Min','FIN Flag Cnt','Active Std','SYN Flag Cnt'\n",
        "]"
      ],
      "metadata": {
        "id": "dbX9Zyixd-7Y"
      },
      "execution_count": null,
      "outputs": []
    },
    {
      "cell_type": "code",
      "source": [
        "df.drop(columns = columns_to_drop,inplace=True)"
      ],
      "metadata": {
        "id": "BJBfvxpWYXci"
      },
      "execution_count": null,
      "outputs": []
    },
    {
      "cell_type": "markdown",
      "source": [
        "# Scaling"
      ],
      "metadata": {
        "id": "Wdx0nPOUlWu8"
      }
    },
    {
      "cell_type": "code",
      "source": [
        "y = df['Label']\n",
        "X = df.drop(['Label'],axis=1)"
      ],
      "metadata": {
        "id": "OSARdQRdlGpP"
      },
      "execution_count": null,
      "outputs": []
    },
    {
      "cell_type": "code",
      "source": [
        "from sklearn.preprocessing import StandardScaler\n",
        "from sklearn.model_selection import train_test_split\n",
        "\n",
        "scaler = StandardScaler()\n",
        "x = scaler.fit_transform(X)\n",
        "x_train, x_test, y_train, y_test = train_test_split(x,y, test_size=0.2, random_state=42)"
      ],
      "metadata": {
        "id": "b1WqEto7mKlL"
      },
      "execution_count": null,
      "outputs": []
    },
    {
      "cell_type": "markdown",
      "source": [
        "# Decision Tree K fold with Boosting"
      ],
      "metadata": {
        "id": "WZiCpP02fkqB"
      }
    },
    {
      "cell_type": "code",
      "execution_count": null,
      "metadata": {
        "id": "cJ4fAqCQTMRP"
      },
      "outputs": [],
      "source": [
        "import pickle"
      ]
    },
    {
      "cell_type": "code",
      "source": [
        "with open('/content/drive/MyDrive/TrainedModels/decisiontTree.pkl', 'rb') as f:\n",
        "  clf = pickle.load(f)"
      ],
      "metadata": {
        "id": "s5U69VH9Uj7d"
      },
      "execution_count": null,
      "outputs": []
    },
    {
      "cell_type": "code",
      "source": [
        "from sklearn.ensemble import AdaBoostClassifier\n",
        "from sklearn import model_selection\n",
        "\n",
        "\n",
        "kfold = model_selection.KFold(n_splits=10)\n",
        "\n",
        "# Create an AdaBoost classifier with 100 decision tree models\n",
        "boosting_clf = AdaBoostClassifier(base_estimator=clf, n_estimators=100, random_state=42)\n",
        "results = model_selection.cross_val_score(boosting_clf, x_test, y_test, cv=kfold)\n",
        "# Fit the AdaBoost classifier on the training data\n",
        "print(results.mean())"
      ],
      "metadata": {
        "colab": {
          "base_uri": "https://localhost:8080/"
        },
        "id": "12d33x1dcgD0",
        "outputId": "827c2278-28a7-4824-8ef4-351d2e82b1c2"
      },
      "execution_count": null,
      "outputs": [
        {
          "output_type": "stream",
          "name": "stdout",
          "text": [
            "0.9999618530162252\n"
          ]
        }
      ]
    },
    {
      "cell_type": "markdown",
      "source": [
        "# SVM with K-fold with Boosting"
      ],
      "metadata": {
        "id": "PIexMfn7f1KS"
      }
    },
    {
      "cell_type": "code",
      "source": [
        "with open('/content/drive/MyDrive/TrainedModels/svm.pkl', 'rb') as f:\n",
        "  svm = pickle.load(f)"
      ],
      "metadata": {
        "id": "tfIEiRqGf-bn"
      },
      "execution_count": null,
      "outputs": []
    },
    {
      "cell_type": "code",
      "source": [
        "\n",
        "\n",
        "from numpy import mean\n",
        "from numpy import std\n",
        "from sklearn.model_selection import KFold\n",
        "from sklearn.model_selection import cross_val_score\n",
        "\n",
        "cv = KFold(n_splits=10, random_state=1, shuffle=True)\n",
        "scores = cross_val_score(svm, x_test, y_test, scoring='accuracy', cv=cv, n_jobs=-1)\n",
        "\n",
        "print('Accuracy: %.3f (%.3f)' % (mean(scores), std(scores)))"
      ],
      "metadata": {
        "colab": {
          "base_uri": "https://localhost:8080/"
        },
        "id": "J1LeT30HgJ7g",
        "outputId": "7b858a0e-b76e-44d0-f0e8-3c8103a15f42"
      },
      "execution_count": null,
      "outputs": [
        {
          "output_type": "stream",
          "name": "stdout",
          "text": [
            "Accuracy: 0.941 (0.001)\n"
          ]
        }
      ]
    },
    {
      "cell_type": "markdown",
      "source": [
        "# Voting Classifier for both Decision Tree and K-Fold "
      ],
      "metadata": {
        "id": "qUpl4BJiH1Zq"
      }
    },
    {
      "cell_type": "code",
      "source": [
        "from sklearn.ensemble import VotingClassifier\n",
        "kfold = model_selection.KFold(n_splits=10, random_state=1, shuffle=True)\n",
        "\n",
        "ensemble = VotingClassifier(estimators=[('svm', svm), ('clf', clf)], voting='hard')\n",
        "results = model_selection.cross_val_score(ensemble, x_test, y_test, cv=kfold)\n",
        "print(results.mean())\n"
      ],
      "metadata": {
        "colab": {
          "base_uri": "https://localhost:8080/"
        },
        "id": "-FVz_OeU02PC",
        "outputId": "5a4fdbbc-6791-4916-f375-f0843d4e9b47"
      },
      "execution_count": null,
      "outputs": [
        {
          "output_type": "stream",
          "name": "stderr",
          "text": [
            "/usr/local/lib/python3.8/dist-packages/sklearn/svm/_base.py:1206: ConvergenceWarning: Liblinear failed to converge, increase the number of iterations.\n",
            "  warnings.warn(\n",
            "/usr/local/lib/python3.8/dist-packages/sklearn/svm/_base.py:1206: ConvergenceWarning: Liblinear failed to converge, increase the number of iterations.\n",
            "  warnings.warn(\n",
            "/usr/local/lib/python3.8/dist-packages/sklearn/svm/_base.py:1206: ConvergenceWarning: Liblinear failed to converge, increase the number of iterations.\n",
            "  warnings.warn(\n",
            "/usr/local/lib/python3.8/dist-packages/sklearn/svm/_base.py:1206: ConvergenceWarning: Liblinear failed to converge, increase the number of iterations.\n",
            "  warnings.warn(\n",
            "/usr/local/lib/python3.8/dist-packages/sklearn/svm/_base.py:1206: ConvergenceWarning: Liblinear failed to converge, increase the number of iterations.\n",
            "  warnings.warn(\n",
            "/usr/local/lib/python3.8/dist-packages/sklearn/svm/_base.py:1206: ConvergenceWarning: Liblinear failed to converge, increase the number of iterations.\n",
            "  warnings.warn(\n",
            "/usr/local/lib/python3.8/dist-packages/sklearn/svm/_base.py:1206: ConvergenceWarning: Liblinear failed to converge, increase the number of iterations.\n",
            "  warnings.warn(\n",
            "/usr/local/lib/python3.8/dist-packages/sklearn/svm/_base.py:1206: ConvergenceWarning: Liblinear failed to converge, increase the number of iterations.\n",
            "  warnings.warn(\n",
            "/usr/local/lib/python3.8/dist-packages/sklearn/svm/_base.py:1206: ConvergenceWarning: Liblinear failed to converge, increase the number of iterations.\n",
            "  warnings.warn(\n",
            "/usr/local/lib/python3.8/dist-packages/sklearn/svm/_base.py:1206: ConvergenceWarning: Liblinear failed to converge, increase the number of iterations.\n",
            "  warnings.warn(\n"
          ]
        },
        {
          "output_type": "stream",
          "name": "stdout",
          "text": [
            "0.9529615587107576\n"
          ]
        }
      ]
    }
  ]
}