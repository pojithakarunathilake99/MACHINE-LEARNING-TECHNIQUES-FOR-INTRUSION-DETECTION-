{
  "nbformat": 4,
  "nbformat_minor": 0,
  "metadata": {
    "colab": {
      "provenance": []
    },
    "kernelspec": {
      "name": "python3",
      "display_name": "Python 3"
    },
    "language_info": {
      "name": "python"
    }
  },
  "cells": [
    {
      "cell_type": "code",
      "execution_count": null,
      "metadata": {
        "id": "EM8LLm1PdnG4",
        "colab": {
          "base_uri": "https://localhost:8080/"
        },
        "outputId": "b3f4764b-d771-46df-e6e5-5842f98ba087"
      },
      "outputs": [
        {
          "output_type": "stream",
          "name": "stdout",
          "text": [
            "Drive already mounted at /content/drive; to attempt to forcibly remount, call drive.mount(\"/content/drive\", force_remount=True).\n"
          ]
        }
      ],
      "source": [
        "from google.colab import drive\n",
        "drive.mount('/content/drive')"
      ]
    },
    {
      "cell_type": "code",
      "source": [
        "import numpy as np\n",
        "import pandas as pd\n",
        "import matplotlib.pyplot as plt\n",
        "import sklearn\n",
        "from sklearn.metrics import accuracy_score, confusion_matrix, classification_report,plot_confusion_matrix"
      ],
      "metadata": {
        "id": "SFChiZUQeDLL"
      },
      "execution_count": null,
      "outputs": []
    },
    {
      "cell_type": "code",
      "source": [
        "df = pd.read_csv('/content/drive/MyDrive/cic-ids/cleaned_data1.csv')"
      ],
      "metadata": {
        "id": "f16IVMBaeEo7"
      },
      "execution_count": null,
      "outputs": []
    },
    {
      "cell_type": "markdown",
      "source": [
        "# Feature Engineering "
      ],
      "metadata": {
        "id": "1kSyZ4-Binc_"
      }
    },
    {
      "cell_type": "code",
      "source": [
        "df.replace(to_replace=[\"Bot\", \"FTP-BruteForce\", \"SSH-Bruteforce\",\"DoS attacks-GoldenEye\",\"DoS attacks-Slowloris\"], value=\"Malicious\", inplace=True)"
      ],
      "metadata": {
        "id": "LI3Z1EBssvvs"
      },
      "execution_count": null,
      "outputs": []
    },
    {
      "cell_type": "code",
      "source": [
        "df['Label'].value_counts()"
      ],
      "metadata": {
        "colab": {
          "base_uri": "https://localhost:8080/"
        },
        "id": "a30PIw7UjPiJ",
        "outputId": "05297607-519c-44e5-b972-4f984280e4ae"
      },
      "execution_count": null,
      "outputs": [
        {
          "output_type": "execute_result",
          "data": {
            "text/plain": [
              "Benign       2426087\n",
              "Malicious     719638\n",
              "Name: Label, dtype: int64"
            ]
          },
          "metadata": {},
          "execution_count": 5
        }
      ]
    },
    {
      "cell_type": "code",
      "source": [
        "df.replace(to_replace=\"Benign\", value=0, inplace=True)\n",
        "df.replace(to_replace=\"Malicious\", value=1, inplace=True)"
      ],
      "metadata": {
        "id": "2ynOf4IMuAlT"
      },
      "execution_count": null,
      "outputs": []
    },
    {
      "cell_type": "code",
      "source": [
        "df['Label'].value_counts()"
      ],
      "metadata": {
        "colab": {
          "base_uri": "https://localhost:8080/"
        },
        "id": "XqyNMV7XuFcw",
        "outputId": "74646cfe-ff5d-432c-a7d0-e6d3db4bab2c"
      },
      "execution_count": null,
      "outputs": [
        {
          "output_type": "execute_result",
          "data": {
            "text/plain": [
              "0    2426087\n",
              "1     719638\n",
              "Name: Label, dtype: int64"
            ]
          },
          "metadata": {},
          "execution_count": 7
        }
      ]
    },
    {
      "cell_type": "code",
      "source": [
        "df.drop('Bwd URG Flags','Bwd Pkts/b Avg','', axis='columns')"
      ],
      "metadata": {
        "colab": {
          "base_uri": "https://localhost:8080/",
          "height": 540
        },
        "id": "BJBfvxpWYXci",
        "outputId": "0c4c3590-95fb-43c7-e7b4-5884aa96eed0"
      },
      "execution_count": null,
      "outputs": [
        {
          "output_type": "execute_result",
          "data": {
            "text/plain": [
              "         Flow Duration  Tot Fwd Pkts  Tot Bwd Pkts  TotLen Fwd Pkts  \\\n",
              "0            112641719             3             0                0   \n",
              "1            112641466             3             0                0   \n",
              "2            112638623             3             0                0   \n",
              "3              6453966            15            10             1239   \n",
              "4              8804066            14            11             1143   \n",
              "...                ...           ...           ...              ...   \n",
              "3145720        3982183            14             8             1442   \n",
              "3145721        3802316            14             8             1440   \n",
              "3145722        4004239            14             8             1459   \n",
              "3145723        3998435            14             8             1459   \n",
              "3145724        3972651            14             8             1439   \n",
              "\n",
              "         TotLen Bwd Pkts  Fwd Pkt Len Max  Fwd Pkt Len Min  Fwd Pkt Len Mean  \\\n",
              "0                      0                0                0          0.000000   \n",
              "1                      0                0                0          0.000000   \n",
              "2                      0                0                0          0.000000   \n",
              "3                   2273              744                0         82.600000   \n",
              "4                   2209              744                0         81.642857   \n",
              "...                  ...              ...              ...               ...   \n",
              "3145720             1731              725                0        103.000000   \n",
              "3145721             1731              725                0        102.857143   \n",
              "3145722             1731              741                0        104.214286   \n",
              "3145723             1731              741                0        104.214286   \n",
              "3145724             1731              725                0        102.785714   \n",
              "\n",
              "         Fwd Pkt Len Std  Bwd Pkt Len Max  ...  Active Std  Active Max  \\\n",
              "0               0.000000                0  ...         0.0           0   \n",
              "1               0.000000                0  ...         0.0           0   \n",
              "2               0.000000                0  ...         0.0           0   \n",
              "3             196.741237              976  ...         0.0           0   \n",
              "4             203.745545              976  ...         0.0           0   \n",
              "...                  ...              ...  ...         ...         ...   \n",
              "3145720       191.125412             1179  ...         0.0           0   \n",
              "3145721       191.172841             1179  ...         0.0           0   \n",
              "3145722       195.113450             1179  ...         0.0           0   \n",
              "3145723       195.113450             1179  ...         0.0           0   \n",
              "3145724       191.197111             1179  ...         0.0           0   \n",
              "\n",
              "         Active Min   Idle Mean    Idle Std  Idle Max  Idle Min  Label  \\\n",
              "0                 0  56320859.5  139.300036  56320958  56320761      0   \n",
              "1                 0  56320733.0  114.551299  56320814  56320652      0   \n",
              "2                 0  56319311.5  301.934596  56319525  56319098      0   \n",
              "3                 0         0.0    0.000000         0         0      0   \n",
              "4                 0         0.0    0.000000         0         0      0   \n",
              "...             ...         ...         ...       ...       ...    ...   \n",
              "3145720           0         0.0    0.000000         0         0      0   \n",
              "3145721           0         0.0    0.000000         0         0      0   \n",
              "3145722           0         0.0    0.000000         0         0      0   \n",
              "3145723           0         0.0    0.000000         0         0      0   \n",
              "3145724           0         0.0    0.000000         0         0      0   \n",
              "\n",
              "         Protocol_17  Protocol_6  \n",
              "0                  0           0  \n",
              "1                  0           0  \n",
              "2                  0           0  \n",
              "3                  0           1  \n",
              "4                  0           1  \n",
              "...              ...         ...  \n",
              "3145720            0           1  \n",
              "3145721            0           1  \n",
              "3145722            0           1  \n",
              "3145723            0           1  \n",
              "3145724            0           1  \n",
              "\n",
              "[3145725 rows x 78 columns]"
            ],
            "text/html": [
              "\n",
              "  <div id=\"df-f48fc8db-c266-4ebc-a931-fe65947f9cab\">\n",
              "    <div class=\"colab-df-container\">\n",
              "      <div>\n",
              "<style scoped>\n",
              "    .dataframe tbody tr th:only-of-type {\n",
              "        vertical-align: middle;\n",
              "    }\n",
              "\n",
              "    .dataframe tbody tr th {\n",
              "        vertical-align: top;\n",
              "    }\n",
              "\n",
              "    .dataframe thead th {\n",
              "        text-align: right;\n",
              "    }\n",
              "</style>\n",
              "<table border=\"1\" class=\"dataframe\">\n",
              "  <thead>\n",
              "    <tr style=\"text-align: right;\">\n",
              "      <th></th>\n",
              "      <th>Flow Duration</th>\n",
              "      <th>Tot Fwd Pkts</th>\n",
              "      <th>Tot Bwd Pkts</th>\n",
              "      <th>TotLen Fwd Pkts</th>\n",
              "      <th>TotLen Bwd Pkts</th>\n",
              "      <th>Fwd Pkt Len Max</th>\n",
              "      <th>Fwd Pkt Len Min</th>\n",
              "      <th>Fwd Pkt Len Mean</th>\n",
              "      <th>Fwd Pkt Len Std</th>\n",
              "      <th>Bwd Pkt Len Max</th>\n",
              "      <th>...</th>\n",
              "      <th>Active Std</th>\n",
              "      <th>Active Max</th>\n",
              "      <th>Active Min</th>\n",
              "      <th>Idle Mean</th>\n",
              "      <th>Idle Std</th>\n",
              "      <th>Idle Max</th>\n",
              "      <th>Idle Min</th>\n",
              "      <th>Label</th>\n",
              "      <th>Protocol_17</th>\n",
              "      <th>Protocol_6</th>\n",
              "    </tr>\n",
              "  </thead>\n",
              "  <tbody>\n",
              "    <tr>\n",
              "      <th>0</th>\n",
              "      <td>112641719</td>\n",
              "      <td>3</td>\n",
              "      <td>0</td>\n",
              "      <td>0</td>\n",
              "      <td>0</td>\n",
              "      <td>0</td>\n",
              "      <td>0</td>\n",
              "      <td>0.000000</td>\n",
              "      <td>0.000000</td>\n",
              "      <td>0</td>\n",
              "      <td>...</td>\n",
              "      <td>0.0</td>\n",
              "      <td>0</td>\n",
              "      <td>0</td>\n",
              "      <td>56320859.5</td>\n",
              "      <td>139.300036</td>\n",
              "      <td>56320958</td>\n",
              "      <td>56320761</td>\n",
              "      <td>0</td>\n",
              "      <td>0</td>\n",
              "      <td>0</td>\n",
              "    </tr>\n",
              "    <tr>\n",
              "      <th>1</th>\n",
              "      <td>112641466</td>\n",
              "      <td>3</td>\n",
              "      <td>0</td>\n",
              "      <td>0</td>\n",
              "      <td>0</td>\n",
              "      <td>0</td>\n",
              "      <td>0</td>\n",
              "      <td>0.000000</td>\n",
              "      <td>0.000000</td>\n",
              "      <td>0</td>\n",
              "      <td>...</td>\n",
              "      <td>0.0</td>\n",
              "      <td>0</td>\n",
              "      <td>0</td>\n",
              "      <td>56320733.0</td>\n",
              "      <td>114.551299</td>\n",
              "      <td>56320814</td>\n",
              "      <td>56320652</td>\n",
              "      <td>0</td>\n",
              "      <td>0</td>\n",
              "      <td>0</td>\n",
              "    </tr>\n",
              "    <tr>\n",
              "      <th>2</th>\n",
              "      <td>112638623</td>\n",
              "      <td>3</td>\n",
              "      <td>0</td>\n",
              "      <td>0</td>\n",
              "      <td>0</td>\n",
              "      <td>0</td>\n",
              "      <td>0</td>\n",
              "      <td>0.000000</td>\n",
              "      <td>0.000000</td>\n",
              "      <td>0</td>\n",
              "      <td>...</td>\n",
              "      <td>0.0</td>\n",
              "      <td>0</td>\n",
              "      <td>0</td>\n",
              "      <td>56319311.5</td>\n",
              "      <td>301.934596</td>\n",
              "      <td>56319525</td>\n",
              "      <td>56319098</td>\n",
              "      <td>0</td>\n",
              "      <td>0</td>\n",
              "      <td>0</td>\n",
              "    </tr>\n",
              "    <tr>\n",
              "      <th>3</th>\n",
              "      <td>6453966</td>\n",
              "      <td>15</td>\n",
              "      <td>10</td>\n",
              "      <td>1239</td>\n",
              "      <td>2273</td>\n",
              "      <td>744</td>\n",
              "      <td>0</td>\n",
              "      <td>82.600000</td>\n",
              "      <td>196.741237</td>\n",
              "      <td>976</td>\n",
              "      <td>...</td>\n",
              "      <td>0.0</td>\n",
              "      <td>0</td>\n",
              "      <td>0</td>\n",
              "      <td>0.0</td>\n",
              "      <td>0.000000</td>\n",
              "      <td>0</td>\n",
              "      <td>0</td>\n",
              "      <td>0</td>\n",
              "      <td>0</td>\n",
              "      <td>1</td>\n",
              "    </tr>\n",
              "    <tr>\n",
              "      <th>4</th>\n",
              "      <td>8804066</td>\n",
              "      <td>14</td>\n",
              "      <td>11</td>\n",
              "      <td>1143</td>\n",
              "      <td>2209</td>\n",
              "      <td>744</td>\n",
              "      <td>0</td>\n",
              "      <td>81.642857</td>\n",
              "      <td>203.745545</td>\n",
              "      <td>976</td>\n",
              "      <td>...</td>\n",
              "      <td>0.0</td>\n",
              "      <td>0</td>\n",
              "      <td>0</td>\n",
              "      <td>0.0</td>\n",
              "      <td>0.000000</td>\n",
              "      <td>0</td>\n",
              "      <td>0</td>\n",
              "      <td>0</td>\n",
              "      <td>0</td>\n",
              "      <td>1</td>\n",
              "    </tr>\n",
              "    <tr>\n",
              "      <th>...</th>\n",
              "      <td>...</td>\n",
              "      <td>...</td>\n",
              "      <td>...</td>\n",
              "      <td>...</td>\n",
              "      <td>...</td>\n",
              "      <td>...</td>\n",
              "      <td>...</td>\n",
              "      <td>...</td>\n",
              "      <td>...</td>\n",
              "      <td>...</td>\n",
              "      <td>...</td>\n",
              "      <td>...</td>\n",
              "      <td>...</td>\n",
              "      <td>...</td>\n",
              "      <td>...</td>\n",
              "      <td>...</td>\n",
              "      <td>...</td>\n",
              "      <td>...</td>\n",
              "      <td>...</td>\n",
              "      <td>...</td>\n",
              "      <td>...</td>\n",
              "    </tr>\n",
              "    <tr>\n",
              "      <th>3145720</th>\n",
              "      <td>3982183</td>\n",
              "      <td>14</td>\n",
              "      <td>8</td>\n",
              "      <td>1442</td>\n",
              "      <td>1731</td>\n",
              "      <td>725</td>\n",
              "      <td>0</td>\n",
              "      <td>103.000000</td>\n",
              "      <td>191.125412</td>\n",
              "      <td>1179</td>\n",
              "      <td>...</td>\n",
              "      <td>0.0</td>\n",
              "      <td>0</td>\n",
              "      <td>0</td>\n",
              "      <td>0.0</td>\n",
              "      <td>0.000000</td>\n",
              "      <td>0</td>\n",
              "      <td>0</td>\n",
              "      <td>0</td>\n",
              "      <td>0</td>\n",
              "      <td>1</td>\n",
              "    </tr>\n",
              "    <tr>\n",
              "      <th>3145721</th>\n",
              "      <td>3802316</td>\n",
              "      <td>14</td>\n",
              "      <td>8</td>\n",
              "      <td>1440</td>\n",
              "      <td>1731</td>\n",
              "      <td>725</td>\n",
              "      <td>0</td>\n",
              "      <td>102.857143</td>\n",
              "      <td>191.172841</td>\n",
              "      <td>1179</td>\n",
              "      <td>...</td>\n",
              "      <td>0.0</td>\n",
              "      <td>0</td>\n",
              "      <td>0</td>\n",
              "      <td>0.0</td>\n",
              "      <td>0.000000</td>\n",
              "      <td>0</td>\n",
              "      <td>0</td>\n",
              "      <td>0</td>\n",
              "      <td>0</td>\n",
              "      <td>1</td>\n",
              "    </tr>\n",
              "    <tr>\n",
              "      <th>3145722</th>\n",
              "      <td>4004239</td>\n",
              "      <td>14</td>\n",
              "      <td>8</td>\n",
              "      <td>1459</td>\n",
              "      <td>1731</td>\n",
              "      <td>741</td>\n",
              "      <td>0</td>\n",
              "      <td>104.214286</td>\n",
              "      <td>195.113450</td>\n",
              "      <td>1179</td>\n",
              "      <td>...</td>\n",
              "      <td>0.0</td>\n",
              "      <td>0</td>\n",
              "      <td>0</td>\n",
              "      <td>0.0</td>\n",
              "      <td>0.000000</td>\n",
              "      <td>0</td>\n",
              "      <td>0</td>\n",
              "      <td>0</td>\n",
              "      <td>0</td>\n",
              "      <td>1</td>\n",
              "    </tr>\n",
              "    <tr>\n",
              "      <th>3145723</th>\n",
              "      <td>3998435</td>\n",
              "      <td>14</td>\n",
              "      <td>8</td>\n",
              "      <td>1459</td>\n",
              "      <td>1731</td>\n",
              "      <td>741</td>\n",
              "      <td>0</td>\n",
              "      <td>104.214286</td>\n",
              "      <td>195.113450</td>\n",
              "      <td>1179</td>\n",
              "      <td>...</td>\n",
              "      <td>0.0</td>\n",
              "      <td>0</td>\n",
              "      <td>0</td>\n",
              "      <td>0.0</td>\n",
              "      <td>0.000000</td>\n",
              "      <td>0</td>\n",
              "      <td>0</td>\n",
              "      <td>0</td>\n",
              "      <td>0</td>\n",
              "      <td>1</td>\n",
              "    </tr>\n",
              "    <tr>\n",
              "      <th>3145724</th>\n",
              "      <td>3972651</td>\n",
              "      <td>14</td>\n",
              "      <td>8</td>\n",
              "      <td>1439</td>\n",
              "      <td>1731</td>\n",
              "      <td>725</td>\n",
              "      <td>0</td>\n",
              "      <td>102.785714</td>\n",
              "      <td>191.197111</td>\n",
              "      <td>1179</td>\n",
              "      <td>...</td>\n",
              "      <td>0.0</td>\n",
              "      <td>0</td>\n",
              "      <td>0</td>\n",
              "      <td>0.0</td>\n",
              "      <td>0.000000</td>\n",
              "      <td>0</td>\n",
              "      <td>0</td>\n",
              "      <td>0</td>\n",
              "      <td>0</td>\n",
              "      <td>1</td>\n",
              "    </tr>\n",
              "  </tbody>\n",
              "</table>\n",
              "<p>3145725 rows × 78 columns</p>\n",
              "</div>\n",
              "      <button class=\"colab-df-convert\" onclick=\"convertToInteractive('df-f48fc8db-c266-4ebc-a931-fe65947f9cab')\"\n",
              "              title=\"Convert this dataframe to an interactive table.\"\n",
              "              style=\"display:none;\">\n",
              "        \n",
              "  <svg xmlns=\"http://www.w3.org/2000/svg\" height=\"24px\"viewBox=\"0 0 24 24\"\n",
              "       width=\"24px\">\n",
              "    <path d=\"M0 0h24v24H0V0z\" fill=\"none\"/>\n",
              "    <path d=\"M18.56 5.44l.94 2.06.94-2.06 2.06-.94-2.06-.94-.94-2.06-.94 2.06-2.06.94zm-11 1L8.5 8.5l.94-2.06 2.06-.94-2.06-.94L8.5 2.5l-.94 2.06-2.06.94zm10 10l.94 2.06.94-2.06 2.06-.94-2.06-.94-.94-2.06-.94 2.06-2.06.94z\"/><path d=\"M17.41 7.96l-1.37-1.37c-.4-.4-.92-.59-1.43-.59-.52 0-1.04.2-1.43.59L10.3 9.45l-7.72 7.72c-.78.78-.78 2.05 0 2.83L4 21.41c.39.39.9.59 1.41.59.51 0 1.02-.2 1.41-.59l7.78-7.78 2.81-2.81c.8-.78.8-2.07 0-2.86zM5.41 20L4 18.59l7.72-7.72 1.47 1.35L5.41 20z\"/>\n",
              "  </svg>\n",
              "      </button>\n",
              "      \n",
              "  <style>\n",
              "    .colab-df-container {\n",
              "      display:flex;\n",
              "      flex-wrap:wrap;\n",
              "      gap: 12px;\n",
              "    }\n",
              "\n",
              "    .colab-df-convert {\n",
              "      background-color: #E8F0FE;\n",
              "      border: none;\n",
              "      border-radius: 50%;\n",
              "      cursor: pointer;\n",
              "      display: none;\n",
              "      fill: #1967D2;\n",
              "      height: 32px;\n",
              "      padding: 0 0 0 0;\n",
              "      width: 32px;\n",
              "    }\n",
              "\n",
              "    .colab-df-convert:hover {\n",
              "      background-color: #E2EBFA;\n",
              "      box-shadow: 0px 1px 2px rgba(60, 64, 67, 0.3), 0px 1px 3px 1px rgba(60, 64, 67, 0.15);\n",
              "      fill: #174EA6;\n",
              "    }\n",
              "\n",
              "    [theme=dark] .colab-df-convert {\n",
              "      background-color: #3B4455;\n",
              "      fill: #D2E3FC;\n",
              "    }\n",
              "\n",
              "    [theme=dark] .colab-df-convert:hover {\n",
              "      background-color: #434B5C;\n",
              "      box-shadow: 0px 1px 3px 1px rgba(0, 0, 0, 0.15);\n",
              "      filter: drop-shadow(0px 1px 2px rgba(0, 0, 0, 0.3));\n",
              "      fill: #FFFFFF;\n",
              "    }\n",
              "  </style>\n",
              "\n",
              "      <script>\n",
              "        const buttonEl =\n",
              "          document.querySelector('#df-f48fc8db-c266-4ebc-a931-fe65947f9cab button.colab-df-convert');\n",
              "        buttonEl.style.display =\n",
              "          google.colab.kernel.accessAllowed ? 'block' : 'none';\n",
              "\n",
              "        async function convertToInteractive(key) {\n",
              "          const element = document.querySelector('#df-f48fc8db-c266-4ebc-a931-fe65947f9cab');\n",
              "          const dataTable =\n",
              "            await google.colab.kernel.invokeFunction('convertToInteractive',\n",
              "                                                     [key], {});\n",
              "          if (!dataTable) return;\n",
              "\n",
              "          const docLinkHtml = 'Like what you see? Visit the ' +\n",
              "            '<a target=\"_blank\" href=https://colab.research.google.com/notebooks/data_table.ipynb>data table notebook</a>'\n",
              "            + ' to learn more about interactive tables.';\n",
              "          element.innerHTML = '';\n",
              "          dataTable['output_type'] = 'display_data';\n",
              "          await google.colab.output.renderOutput(dataTable, element);\n",
              "          const docLink = document.createElement('div');\n",
              "          docLink.innerHTML = docLinkHtml;\n",
              "          element.appendChild(docLink);\n",
              "        }\n",
              "      </script>\n",
              "    </div>\n",
              "  </div>\n",
              "  "
            ]
          },
          "metadata": {},
          "execution_count": 8
        }
      ]
    },
    {
      "cell_type": "markdown",
      "source": [
        "# Label Encoding\n"
      ],
      "metadata": {
        "id": "m8UoP6pckbrQ"
      }
    },
    {
      "cell_type": "code",
      "source": [
        "from sklearn.preprocessing import LabelEncoder\n",
        "LabelEncoder = LabelEncoder()"
      ],
      "metadata": {
        "id": "PqoJ4ycvkeTQ"
      },
      "execution_count": null,
      "outputs": []
    },
    {
      "cell_type": "code",
      "source": [
        "df['Label'] = LabelEncoder.fit_transform(df['Label'])"
      ],
      "metadata": {
        "id": "Pu2opVDmkhuH"
      },
      "execution_count": null,
      "outputs": []
    },
    {
      "cell_type": "markdown",
      "source": [
        "# Scaling"
      ],
      "metadata": {
        "id": "Wdx0nPOUlWu8"
      }
    },
    {
      "cell_type": "code",
      "source": [
        "y = df['Label']\n",
        "X = df.drop(['Label'],axis=1)"
      ],
      "metadata": {
        "id": "OSARdQRdlGpP"
      },
      "execution_count": null,
      "outputs": []
    },
    {
      "cell_type": "code",
      "source": [
        "from sklearn.preprocessing import StandardScaler\n",
        "from sklearn.model_selection import train_test_split\n",
        "\n",
        "scaler = StandardScaler()\n",
        "x = scaler.fit_transform(X)\n",
        "x_train, x_test, y_train, y_test = train_test_split(x,y, test_size=0.2, random_state=42)"
      ],
      "metadata": {
        "id": "b1WqEto7mKlL"
      },
      "execution_count": null,
      "outputs": []
    },
    {
      "cell_type": "markdown",
      "source": [
        "# Build a model\n"
      ],
      "metadata": {
        "id": "6xseTTbYmrbX"
      }
    },
    {
      "cell_type": "code",
      "source": [
        "from sklearn import tree\n",
        "clf = tree.DecisionTreeClassifier(\n",
        "    criterion='gini',\n",
        "    splitter='best'\n",
        ")\n",
        "\n"
      ],
      "metadata": {
        "id": "WuBQtrkfmlFE"
      },
      "execution_count": null,
      "outputs": []
    },
    {
      "cell_type": "code",
      "source": [
        "clf.fit(X=x_train, y=y_train)"
      ],
      "metadata": {
        "colab": {
          "base_uri": "https://localhost:8080/"
        },
        "id": "NfJAAdhQrv2D",
        "outputId": "2fdb8988-4d03-4128-b6de-e63b2a10e37f"
      },
      "execution_count": null,
      "outputs": [
        {
          "output_type": "execute_result",
          "data": {
            "text/plain": [
              "DecisionTreeClassifier()"
            ]
          },
          "metadata": {},
          "execution_count": 14
        }
      ]
    },
    {
      "cell_type": "markdown",
      "source": [
        "Predict on Test Set"
      ],
      "metadata": {
        "id": "u5UrGTRo1iWW"
      }
    },
    {
      "cell_type": "code",
      "source": [
        "predict = clf.predict(x_test)\n",
        "predict"
      ],
      "metadata": {
        "colab": {
          "base_uri": "https://localhost:8080/"
        },
        "id": "fPjVDVigpU_G",
        "outputId": "2eab9c5e-887c-4c6d-e516-6613888d9637"
      },
      "execution_count": null,
      "outputs": [
        {
          "output_type": "execute_result",
          "data": {
            "text/plain": [
              "array([0, 0, 0, ..., 1, 1, 0])"
            ]
          },
          "metadata": {},
          "execution_count": 15
        }
      ]
    },
    {
      "cell_type": "markdown",
      "source": [
        "Confusion Matrix"
      ],
      "metadata": {
        "id": "D-DsQtZlyX6t"
      }
    },
    {
      "cell_type": "code",
      "source": [
        "conf = confusion_matrix(y_test,predict)\n",
        "print(conf)"
      ],
      "metadata": {
        "colab": {
          "base_uri": "https://localhost:8080/"
        },
        "id": "CKyv3nRkqJCy",
        "outputId": "29bd7dd5-d94a-42ce-a97d-4d211e220763"
      },
      "execution_count": null,
      "outputs": [
        {
          "output_type": "stream",
          "name": "stdout",
          "text": [
            "[[485154     11]\n",
            " [     7 143973]]\n"
          ]
        }
      ]
    },
    {
      "cell_type": "code",
      "source": [
        "plot_confusion_matrix(clf, x_test, y_test, cmap=\"cividis\")"
      ],
      "metadata": {
        "colab": {
          "base_uri": "https://localhost:8080/",
          "height": 351
        },
        "id": "4Pw3fPJC1709",
        "outputId": "9d003f8c-3ab5-47e8-b331-152dac426000"
      },
      "execution_count": null,
      "outputs": [
        {
          "output_type": "stream",
          "name": "stderr",
          "text": [
            "/usr/local/lib/python3.8/dist-packages/sklearn/utils/deprecation.py:87: FutureWarning: Function plot_confusion_matrix is deprecated; Function `plot_confusion_matrix` is deprecated in 1.0 and will be removed in 1.2. Use one of the class methods: ConfusionMatrixDisplay.from_predictions or ConfusionMatrixDisplay.from_estimator.\n",
            "  warnings.warn(msg, category=FutureWarning)\n"
          ]
        },
        {
          "output_type": "execute_result",
          "data": {
            "text/plain": [
              "<sklearn.metrics._plot.confusion_matrix.ConfusionMatrixDisplay at 0x7f1b989f2550>"
            ]
          },
          "metadata": {},
          "execution_count": 18
        },
        {
          "output_type": "display_data",
          "data": {
            "text/plain": [
              "<Figure size 432x288 with 2 Axes>"
            ],
            "image/png": "[encoded data removed]"
          },
          "metadata": {
            "needs_background": "light"
          }
        }
      ]
    },
    {
      "cell_type": "markdown",
      "source": [
        "Accuracy Score"
      ],
      "metadata": {
        "id": "zi8CXyk9yHcX"
      }
    },
    {
      "cell_type": "code",
      "source": [
        "from sklearn.metrics import accuracy_score\n",
        "\n",
        "print(\"Accuracy score: {}\".format(accuracy_score(y_test,predict)))"
      ],
      "metadata": {
        "colab": {
          "base_uri": "https://localhost:8080/"
        },
        "id": "i6dApvWzqjhP",
        "outputId": "0a2d465c-5ff9-4f68-e2e4-bffc611b291f"
      },
      "execution_count": null,
      "outputs": [
        {
          "output_type": "stream",
          "name": "stdout",
          "text": [
            "Accuracy score: 0.999971389743223\n"
          ]
        }
      ]
    },
    {
      "cell_type": "markdown",
      "source": [
        "Classification Report"
      ],
      "metadata": {
        "id": "ozeta8x9ynhQ"
      }
    },
    {
      "cell_type": "code",
      "source": [
        "print(\"Classification Report {}\".format(classification_report(y_test,predict,digits=5)))\n"
      ],
      "metadata": {
        "colab": {
          "base_uri": "https://localhost:8080/"
        },
        "id": "E_4WDrdcyrHY",
        "outputId": "0b4d7d89-46b1-4510-b1fb-24e99992c04a"
      },
      "execution_count": null,
      "outputs": [
        {
          "output_type": "stream",
          "name": "stdout",
          "text": [
            "Classification Report               precision    recall  f1-score   support\n",
            "\n",
            "           0    0.99999   0.99998   0.99998    485165\n",
            "           1    0.99992   0.99995   0.99994    143980\n",
            "\n",
            "    accuracy                        0.99997    629145\n",
            "   macro avg    0.99995   0.99996   0.99996    629145\n",
            "weighted avg    0.99997   0.99997   0.99997    629145\n",
            "\n"
          ]
        }
      ]
    },
    {
      "cell_type": "markdown",
      "source": [
        "Recall Score"
      ],
      "metadata": {
        "id": "6QBcXjjfNtjl"
      }
    },
    {
      "cell_type": "code",
      "source": [
        "from sklearn.metrics import recall_score\n",
        "\n",
        "print(\"Recall score: {}\".format(recall_score(y_test,predict)))"
      ],
      "metadata": {
        "colab": {
          "base_uri": "https://localhost:8080/"
        },
        "id": "j-1EFX9dzg8N",
        "outputId": "50dd9e52-673c-4b3b-c82f-5a60c643ce7c"
      },
      "execution_count": null,
      "outputs": [
        {
          "output_type": "stream",
          "name": "stdout",
          "text": [
            "Recall score: 0.9999513821364079\n"
          ]
        }
      ]
    },
    {
      "cell_type": "markdown",
      "source": [
        "Saving Model"
      ],
      "metadata": {
        "id": "08LC6vjI2XZG"
      }
    },
    {
      "cell_type": "code",
      "source": [
        "import pickle\n",
        "\n",
        "with open('/content/drive/MyDrive/TrainedModels/decisiontTree.pkl', 'wb') as f:\n",
        "  pickle.dump(clf, f)"
      ],
      "metadata": {
        "id": "ZCVJVcFcVDQ_"
      },
      "execution_count": null,
      "outputs": []
    }
  ]
}